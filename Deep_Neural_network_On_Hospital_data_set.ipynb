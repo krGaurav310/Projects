{
  "nbformat": 4,
  "nbformat_minor": 0,
  "metadata": {
    "colab": {
      "name": "Deep Neural network On Hospital data set.ipynb",
      "provenance": [],
      "collapsed_sections": [],
      "include_colab_link": true
    },
    "kernelspec": {
      "name": "python3",
      "display_name": "Python 3"
    }
  },
  "cells": [
    {
      "cell_type": "markdown",
      "metadata": {
        "id": "view-in-github",
        "colab_type": "text"
      },
      "source": [
        "<a href=\"https://colab.research.google.com/github/krGaurav310/Projects/blob/main/Deep_Neural_network_On_Hospital_data_set.ipynb\" target=\"_parent\"><img src=\"https://colab.research.google.com/assets/colab-badge.svg\" alt=\"Open In Colab\"/></a>"
      ]
    },
    {
      "cell_type": "code",
      "metadata": {
        "id": "MCE6JtJpoQCb"
      },
      "source": [
        "#import libraries\n",
        "import pandas as pd\n",
        "import numpy as np\n",
        "import seaborn as sns\n",
        "import matplotlib.pyplot as plt\n",
        "from sklearn.model_selection import cross_val_score\n",
        "from sklearn.metrics import cohen_kappa_score, make_scorer\n",
        "from sklearn import preprocessing\n",
        "import tensorflow as tf\n",
        "from keras.models import Sequential\n",
        "import pandas as pd\n",
        "from keras.layers import Dense\n",
        "from keras.wrappers.scikit_learn import KerasClassifier\n",
        "from keras.utils import np_utils\n",
        "from sklearn.preprocessing import LabelEncoder\n",
        "from sklearn.pipeline import Pipeline\n",
        "import tensorflow_addons as tfa\n",
        "from keras.models import Sequential\n",
        "from keras.layers import Dense, Dropout, Activation\n",
        "from keras.optimizers import SGD"
      ],
      "execution_count": null,
      "outputs": []
    },
    {
      "cell_type": "code",
      "metadata": {
        "id": "edcrUz0lxcAe",
        "outputId": "5add3d92-4a4d-464a-b7b8-dcee6d4f5704",
        "colab": {
          "resources": {
            "http://localhost:8080/nbextensions/google.colab/files.js": {
              "data": "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",
              "ok": true,
              "headers": [
                [
                  "content-type",
                  "application/javascript"
                ]
              ],
              "status": 200,
              "status_text": ""
            }
          },
          "base_uri": "https://localhost:8080/",
          "height": 56
        }
      },
      "source": [
        "from google.colab import files\n",
        "files.upload()"
      ],
      "execution_count": null,
      "outputs": [
        {
          "output_type": "display_data",
          "data": {
            "text/html": [
              "\n",
              "     <input type=\"file\" id=\"files-d5fb9c59-31d3-42ce-8ec5-965a9c756f99\" name=\"files[]\" multiple disabled\n",
              "        style=\"border:none\" />\n",
              "     <output id=\"result-d5fb9c59-31d3-42ce-8ec5-965a9c756f99\">\n",
              "      Upload widget is only available when the cell has been executed in the\n",
              "      current browser session. Please rerun this cell to enable.\n",
              "      </output>\n",
              "      <script src=\"/nbextensions/google.colab/files.js\"></script> "
            ],
            "text/plain": [
              "<IPython.core.display.HTML object>"
            ]
          },
          "metadata": {
            "tags": []
          }
        },
        {
          "output_type": "execute_result",
          "data": {
            "text/plain": [
              "{}"
            ]
          },
          "metadata": {
            "tags": []
          },
          "execution_count": 32
        }
      ]
    },
    {
      "cell_type": "code",
      "metadata": {
        "id": "yI2PTJUrou_6"
      },
      "source": [
        "#load the train data and test data\n",
        "train = pd.read_csv(\"train.csv\")\n",
        "test = pd.read_csv(\"test.csv\")"
      ],
      "execution_count": null,
      "outputs": []
    },
    {
      "cell_type": "code",
      "metadata": {
        "id": "uAJduVYDrzrc",
        "outputId": "3f74e674-02d8-464e-ec13-fb01550ed5a4",
        "colab": {
          "base_uri": "https://localhost:8080/",
          "height": 367
        }
      },
      "source": [
        "#Print first 5 rows\n",
        "train.head()"
      ],
      "execution_count": null,
      "outputs": [
        {
          "output_type": "execute_result",
          "data": {
            "text/html": [
              "<div>\n",
              "<style scoped>\n",
              "    .dataframe tbody tr th:only-of-type {\n",
              "        vertical-align: middle;\n",
              "    }\n",
              "\n",
              "    .dataframe tbody tr th {\n",
              "        vertical-align: top;\n",
              "    }\n",
              "\n",
              "    .dataframe thead th {\n",
              "        text-align: right;\n",
              "    }\n",
              "</style>\n",
              "<table border=\"1\" class=\"dataframe\">\n",
              "  <thead>\n",
              "    <tr style=\"text-align: right;\">\n",
              "      <th></th>\n",
              "      <th>Hospital_code</th>\n",
              "      <th>Hospital_type_code</th>\n",
              "      <th>City_Code_Hospital</th>\n",
              "      <th>Hospital_region_code</th>\n",
              "      <th>Available Extra Rooms in Hospital</th>\n",
              "      <th>Department</th>\n",
              "      <th>Ward_Type</th>\n",
              "      <th>Ward_Facility_Code</th>\n",
              "      <th>Bed Grade</th>\n",
              "      <th>patientid</th>\n",
              "      <th>City_Code_Patient</th>\n",
              "      <th>Type of Admission</th>\n",
              "      <th>Severity of Illness</th>\n",
              "      <th>Visitors with Patient</th>\n",
              "      <th>Age</th>\n",
              "      <th>Admission_Deposit</th>\n",
              "      <th>Stay</th>\n",
              "    </tr>\n",
              "  </thead>\n",
              "  <tbody>\n",
              "    <tr>\n",
              "      <th>0</th>\n",
              "      <td>8</td>\n",
              "      <td>c</td>\n",
              "      <td>3</td>\n",
              "      <td>Z</td>\n",
              "      <td>3</td>\n",
              "      <td>radiotherapy</td>\n",
              "      <td>R</td>\n",
              "      <td>F</td>\n",
              "      <td>2.0</td>\n",
              "      <td>31397</td>\n",
              "      <td>7.0</td>\n",
              "      <td>Emergency</td>\n",
              "      <td>Extreme</td>\n",
              "      <td>2</td>\n",
              "      <td>51-60</td>\n",
              "      <td>4911</td>\n",
              "      <td>0-10</td>\n",
              "    </tr>\n",
              "    <tr>\n",
              "      <th>1</th>\n",
              "      <td>2</td>\n",
              "      <td>c</td>\n",
              "      <td>5</td>\n",
              "      <td>Z</td>\n",
              "      <td>2</td>\n",
              "      <td>radiotherapy</td>\n",
              "      <td>S</td>\n",
              "      <td>F</td>\n",
              "      <td>2.0</td>\n",
              "      <td>31397</td>\n",
              "      <td>7.0</td>\n",
              "      <td>Trauma</td>\n",
              "      <td>Extreme</td>\n",
              "      <td>2</td>\n",
              "      <td>51-60</td>\n",
              "      <td>5954</td>\n",
              "      <td>41-50</td>\n",
              "    </tr>\n",
              "    <tr>\n",
              "      <th>2</th>\n",
              "      <td>10</td>\n",
              "      <td>e</td>\n",
              "      <td>1</td>\n",
              "      <td>X</td>\n",
              "      <td>2</td>\n",
              "      <td>anesthesia</td>\n",
              "      <td>S</td>\n",
              "      <td>E</td>\n",
              "      <td>2.0</td>\n",
              "      <td>31397</td>\n",
              "      <td>7.0</td>\n",
              "      <td>Trauma</td>\n",
              "      <td>Extreme</td>\n",
              "      <td>2</td>\n",
              "      <td>51-60</td>\n",
              "      <td>4745</td>\n",
              "      <td>31-40</td>\n",
              "    </tr>\n",
              "    <tr>\n",
              "      <th>3</th>\n",
              "      <td>26</td>\n",
              "      <td>b</td>\n",
              "      <td>2</td>\n",
              "      <td>Y</td>\n",
              "      <td>2</td>\n",
              "      <td>radiotherapy</td>\n",
              "      <td>R</td>\n",
              "      <td>D</td>\n",
              "      <td>2.0</td>\n",
              "      <td>31397</td>\n",
              "      <td>7.0</td>\n",
              "      <td>Trauma</td>\n",
              "      <td>Extreme</td>\n",
              "      <td>2</td>\n",
              "      <td>51-60</td>\n",
              "      <td>7272</td>\n",
              "      <td>41-50</td>\n",
              "    </tr>\n",
              "    <tr>\n",
              "      <th>4</th>\n",
              "      <td>26</td>\n",
              "      <td>b</td>\n",
              "      <td>2</td>\n",
              "      <td>Y</td>\n",
              "      <td>2</td>\n",
              "      <td>radiotherapy</td>\n",
              "      <td>S</td>\n",
              "      <td>D</td>\n",
              "      <td>2.0</td>\n",
              "      <td>31397</td>\n",
              "      <td>7.0</td>\n",
              "      <td>Trauma</td>\n",
              "      <td>Extreme</td>\n",
              "      <td>2</td>\n",
              "      <td>51-60</td>\n",
              "      <td>5558</td>\n",
              "      <td>41-50</td>\n",
              "    </tr>\n",
              "  </tbody>\n",
              "</table>\n",
              "</div>"
            ],
            "text/plain": [
              "   Hospital_code Hospital_type_code  ...  Admission_Deposit   Stay\n",
              "0              8                  c  ...               4911   0-10\n",
              "1              2                  c  ...               5954  41-50\n",
              "2             10                  e  ...               4745  31-40\n",
              "3             26                  b  ...               7272  41-50\n",
              "4             26                  b  ...               5558  41-50\n",
              "\n",
              "[5 rows x 17 columns]"
            ]
          },
          "metadata": {
            "tags": []
          },
          "execution_count": 3
        }
      ]
    },
    {
      "cell_type": "code",
      "metadata": {
        "id": "4SuSkberr45s",
        "outputId": "49505f35-f739-4c8b-e0ee-b8f7adb7bf15",
        "colab": {
          "base_uri": "https://localhost:8080/",
          "height": 33
        }
      },
      "source": [
        "#Checking the number of rows and columns\n",
        "train.shape"
      ],
      "execution_count": null,
      "outputs": [
        {
          "output_type": "execute_result",
          "data": {
            "text/plain": [
              "(244648, 17)"
            ]
          },
          "metadata": {
            "tags": []
          },
          "execution_count": 4
        }
      ]
    },
    {
      "cell_type": "code",
      "metadata": {
        "id": "P1_ZWgZ3sGQ-",
        "outputId": "a2f327a4-afd5-4aaa-dcf6-2a021bc519a7",
        "colab": {
          "base_uri": "https://localhost:8080/",
          "height": 316
        }
      },
      "source": [
        "#Checking for missing values in the train data\n",
        "train.isnull().sum()"
      ],
      "execution_count": null,
      "outputs": [
        {
          "output_type": "execute_result",
          "data": {
            "text/plain": [
              "Hospital_code                           0\n",
              "Hospital_type_code                      0\n",
              "City_Code_Hospital                      0\n",
              "Hospital_region_code                    0\n",
              "Available Extra Rooms in Hospital       0\n",
              "Department                              0\n",
              "Ward_Type                               0\n",
              "Ward_Facility_Code                      0\n",
              "Bed Grade                             113\n",
              "patientid                               0\n",
              "City_Code_Patient                    3147\n",
              "Type of Admission                       0\n",
              "Severity of Illness                     0\n",
              "Visitors with Patient                   0\n",
              "Age                                     0\n",
              "Admission_Deposit                       0\n",
              "Stay                                    0\n",
              "dtype: int64"
            ]
          },
          "metadata": {
            "tags": []
          },
          "execution_count": 6
        }
      ]
    },
    {
      "cell_type": "code",
      "metadata": {
        "id": "yiY5O7HTnuiU",
        "outputId": "9d03ad59-fb09-41cd-88fe-f102cf64939d",
        "colab": {
          "base_uri": "https://localhost:8080/",
          "height": 316
        }
      },
      "source": [
        "#Checking for missing values in test data\n",
        "test.isnull().sum()"
      ],
      "execution_count": null,
      "outputs": [
        {
          "output_type": "execute_result",
          "data": {
            "text/plain": [
              "Hospital_code                           0\n",
              "Hospital_type_code                      0\n",
              "City_Code_Hospital                      0\n",
              "Hospital_region_code                    0\n",
              "Available Extra Rooms in Hospital       0\n",
              "Department                              0\n",
              "Ward_Type                               0\n",
              "Ward_Facility_Code                      0\n",
              "Bed Grade                               0\n",
              "patientid                               0\n",
              "City_Code_Patient                    1385\n",
              "Type of Admission                       0\n",
              "Severity of Illness                     0\n",
              "Visitors with Patient                   0\n",
              "Age                                     0\n",
              "Admission_Deposit                       0\n",
              "Stay                                    0\n",
              "dtype: int64"
            ]
          },
          "metadata": {
            "tags": []
          },
          "execution_count": 7
        }
      ]
    },
    {
      "cell_type": "code",
      "metadata": {
        "id": "4S6wR97pn2rv"
      },
      "source": [
        "#dropping patientid as it will not make any sense for prediction\n",
        "#dropping city code patients as it has missing values in the test data as well, and imputing in test data or removing rows in test data is not advisable.\n",
        "train=train.drop([\"patientid\",\"City_Code_Patient\"],axis=1)\n",
        "test=test.drop([\"patientid\",\"City_Code_Patient\"],axis=1)"
      ],
      "execution_count": null,
      "outputs": []
    },
    {
      "cell_type": "code",
      "metadata": {
        "id": "P_TNdLShuXds"
      },
      "source": [
        "#removing the other rows in train data with missing values\n",
        "train=train.dropna()"
      ],
      "execution_count": null,
      "outputs": []
    },
    {
      "cell_type": "code",
      "metadata": {
        "id": "9hya8yrruerU"
      },
      "source": [
        "#dropping duplicate rows in train data\n",
        "train=train.drop_duplicates()"
      ],
      "execution_count": null,
      "outputs": []
    },
    {
      "cell_type": "code",
      "metadata": {
        "id": "rNIETIaJ6h9u",
        "outputId": "e02b6513-70ae-4d76-830a-bceea1346180",
        "colab": {
          "base_uri": "https://localhost:8080/",
          "height": 216
        }
      },
      "source": [
        "#Checking the classes in the target variable\n",
        "train['Stay'].value_counts()"
      ],
      "execution_count": null,
      "outputs": [
        {
          "output_type": "execute_result",
          "data": {
            "text/plain": [
              "21-30                 68178\n",
              "11-20                 57611\n",
              "31-40                 43173\n",
              "51-60                 28184\n",
              "0-10                  16461\n",
              "41-50                  8918\n",
              "71-80                  8283\n",
              "More than 100 Days     5203\n",
              "81-90                  3929\n",
              "91-100                 2245\n",
              "61-70                  2128\n",
              "Name: Stay, dtype: int64"
            ]
          },
          "metadata": {
            "tags": []
          },
          "execution_count": 11
        }
      ]
    },
    {
      "cell_type": "code",
      "metadata": {
        "id": "TlJ-_2ig6ZNU"
      },
      "source": [
        "#grouping the classes in the target variable as mentioned in the problem statement\n",
        "train['Stay'] = train['Stay'].replace(['0-10'],'0-20')\n",
        "train['Stay'] = train['Stay'].replace(['11-20'],'0-20')\n",
        "train['Stay'] = train['Stay'].replace(['21-30'],'21-40')\n",
        "train['Stay'] = train['Stay'].replace(['31-40'],'21-40')\n",
        "train['Stay'] = train['Stay'].replace(['41-50'],'41-60')\n",
        "train['Stay'] = train['Stay'].replace(['51-60'],'41-60')\n",
        "train['Stay'] = train['Stay'].replace(['61-70'],'61-80')\n",
        "train['Stay'] = train['Stay'].replace(['71-80'],'61-80')\n",
        "train['Stay'] = train['Stay'].replace(['81-90'],'More_than_80')\n",
        "train['Stay'] = train['Stay'].replace(['91-100'],'More_than_80')\n",
        "train['Stay'] = train['Stay'].replace(['More than 100 Days'],'More_than_80')"
      ],
      "execution_count": null,
      "outputs": []
    },
    {
      "cell_type": "code",
      "metadata": {
        "id": "qlnEuTH-8F7d",
        "outputId": "f97c4cf9-f81a-4f69-edd6-cb8d128cb10f",
        "colab": {
          "base_uri": "https://localhost:8080/",
          "height": 116
        }
      },
      "source": [
        "#rechecking the target classes\n",
        "train['Stay'].value_counts()"
      ],
      "execution_count": null,
      "outputs": [
        {
          "output_type": "execute_result",
          "data": {
            "text/plain": [
              "21-40           111351\n",
              "0-20             74072\n",
              "41-60            37102\n",
              "More_than_80     11377\n",
              "61-80            10411\n",
              "Name: Stay, dtype: int64"
            ]
          },
          "metadata": {
            "tags": []
          },
          "execution_count": 13
        }
      ]
    },
    {
      "cell_type": "code",
      "metadata": {
        "id": "hq0XrQx-EUyc"
      },
      "source": [
        "#label encoding the categorical variables\n",
        "colnames = list(train.columns)\n",
        "label_encoder = preprocessing.LabelEncoder() \n",
        "for col in colnames:\n",
        "    if train[col].dtype==object:\n",
        "        train[col]= label_encoder.fit_transform(train[col])"
      ],
      "execution_count": null,
      "outputs": []
    },
    {
      "cell_type": "code",
      "metadata": {
        "id": "mYjzYEUqFNc9",
        "outputId": "bd436298-f57d-4ee1-f57c-37e1e34e42fe",
        "colab": {
          "base_uri": "https://localhost:8080/",
          "height": 284
        }
      },
      "source": [
        "#print top 5 rows after pre processing\n",
        "train.head()"
      ],
      "execution_count": null,
      "outputs": [
        {
          "output_type": "execute_result",
          "data": {
            "text/html": [
              "<div>\n",
              "<style scoped>\n",
              "    .dataframe tbody tr th:only-of-type {\n",
              "        vertical-align: middle;\n",
              "    }\n",
              "\n",
              "    .dataframe tbody tr th {\n",
              "        vertical-align: top;\n",
              "    }\n",
              "\n",
              "    .dataframe thead th {\n",
              "        text-align: right;\n",
              "    }\n",
              "</style>\n",
              "<table border=\"1\" class=\"dataframe\">\n",
              "  <thead>\n",
              "    <tr style=\"text-align: right;\">\n",
              "      <th></th>\n",
              "      <th>Hospital_code</th>\n",
              "      <th>Hospital_type_code</th>\n",
              "      <th>City_Code_Hospital</th>\n",
              "      <th>Hospital_region_code</th>\n",
              "      <th>Available Extra Rooms in Hospital</th>\n",
              "      <th>Department</th>\n",
              "      <th>Ward_Type</th>\n",
              "      <th>Ward_Facility_Code</th>\n",
              "      <th>Bed Grade</th>\n",
              "      <th>Type of Admission</th>\n",
              "      <th>Severity of Illness</th>\n",
              "      <th>Visitors with Patient</th>\n",
              "      <th>Age</th>\n",
              "      <th>Admission_Deposit</th>\n",
              "      <th>Stay</th>\n",
              "    </tr>\n",
              "  </thead>\n",
              "  <tbody>\n",
              "    <tr>\n",
              "      <th>0</th>\n",
              "      <td>8</td>\n",
              "      <td>2</td>\n",
              "      <td>3</td>\n",
              "      <td>2</td>\n",
              "      <td>3</td>\n",
              "      <td>3</td>\n",
              "      <td>2</td>\n",
              "      <td>5</td>\n",
              "      <td>2.0</td>\n",
              "      <td>0</td>\n",
              "      <td>0</td>\n",
              "      <td>2</td>\n",
              "      <td>5</td>\n",
              "      <td>4911</td>\n",
              "      <td>0</td>\n",
              "    </tr>\n",
              "    <tr>\n",
              "      <th>1</th>\n",
              "      <td>2</td>\n",
              "      <td>2</td>\n",
              "      <td>5</td>\n",
              "      <td>2</td>\n",
              "      <td>2</td>\n",
              "      <td>3</td>\n",
              "      <td>3</td>\n",
              "      <td>5</td>\n",
              "      <td>2.0</td>\n",
              "      <td>1</td>\n",
              "      <td>0</td>\n",
              "      <td>2</td>\n",
              "      <td>5</td>\n",
              "      <td>5954</td>\n",
              "      <td>2</td>\n",
              "    </tr>\n",
              "    <tr>\n",
              "      <th>2</th>\n",
              "      <td>10</td>\n",
              "      <td>4</td>\n",
              "      <td>1</td>\n",
              "      <td>0</td>\n",
              "      <td>2</td>\n",
              "      <td>1</td>\n",
              "      <td>3</td>\n",
              "      <td>4</td>\n",
              "      <td>2.0</td>\n",
              "      <td>1</td>\n",
              "      <td>0</td>\n",
              "      <td>2</td>\n",
              "      <td>5</td>\n",
              "      <td>4745</td>\n",
              "      <td>1</td>\n",
              "    </tr>\n",
              "    <tr>\n",
              "      <th>3</th>\n",
              "      <td>26</td>\n",
              "      <td>1</td>\n",
              "      <td>2</td>\n",
              "      <td>1</td>\n",
              "      <td>2</td>\n",
              "      <td>3</td>\n",
              "      <td>2</td>\n",
              "      <td>3</td>\n",
              "      <td>2.0</td>\n",
              "      <td>1</td>\n",
              "      <td>0</td>\n",
              "      <td>2</td>\n",
              "      <td>5</td>\n",
              "      <td>7272</td>\n",
              "      <td>2</td>\n",
              "    </tr>\n",
              "    <tr>\n",
              "      <th>4</th>\n",
              "      <td>26</td>\n",
              "      <td>1</td>\n",
              "      <td>2</td>\n",
              "      <td>1</td>\n",
              "      <td>2</td>\n",
              "      <td>3</td>\n",
              "      <td>3</td>\n",
              "      <td>3</td>\n",
              "      <td>2.0</td>\n",
              "      <td>1</td>\n",
              "      <td>0</td>\n",
              "      <td>2</td>\n",
              "      <td>5</td>\n",
              "      <td>5558</td>\n",
              "      <td>2</td>\n",
              "    </tr>\n",
              "  </tbody>\n",
              "</table>\n",
              "</div>"
            ],
            "text/plain": [
              "   Hospital_code  Hospital_type_code  ...  Admission_Deposit  Stay\n",
              "0              8                   2  ...               4911     0\n",
              "1              2                   2  ...               5954     2\n",
              "2             10                   4  ...               4745     1\n",
              "3             26                   1  ...               7272     2\n",
              "4             26                   1  ...               5558     2\n",
              "\n",
              "[5 rows x 15 columns]"
            ]
          },
          "metadata": {
            "tags": []
          },
          "execution_count": 15
        }
      ]
    },
    {
      "cell_type": "code",
      "metadata": {
        "id": "eef62xtsFlNR"
      },
      "source": [
        "#Standardising the only numerical variable\n",
        "train[\"Admission_Deposit\"]= (train[\"Admission_Deposit\"] - train[\"Admission_Deposit\"].mean())/train[\"Admission_Deposit\"].std()"
      ],
      "execution_count": null,
      "outputs": []
    },
    {
      "cell_type": "code",
      "metadata": {
        "id": "JTcRmFCJPRS7",
        "outputId": "1739851e-5c59-41be-e3af-5d066a231e98",
        "colab": {
          "base_uri": "https://localhost:8080/",
          "height": 194
        }
      },
      "source": [
        "#Checking the final table before modelling\n",
        "train.head(2)"
      ],
      "execution_count": null,
      "outputs": [
        {
          "output_type": "execute_result",
          "data": {
            "text/html": [
              "<div>\n",
              "<style scoped>\n",
              "    .dataframe tbody tr th:only-of-type {\n",
              "        vertical-align: middle;\n",
              "    }\n",
              "\n",
              "    .dataframe tbody tr th {\n",
              "        vertical-align: top;\n",
              "    }\n",
              "\n",
              "    .dataframe thead th {\n",
              "        text-align: right;\n",
              "    }\n",
              "</style>\n",
              "<table border=\"1\" class=\"dataframe\">\n",
              "  <thead>\n",
              "    <tr style=\"text-align: right;\">\n",
              "      <th></th>\n",
              "      <th>Hospital_code</th>\n",
              "      <th>Hospital_type_code</th>\n",
              "      <th>City_Code_Hospital</th>\n",
              "      <th>Hospital_region_code</th>\n",
              "      <th>Available Extra Rooms in Hospital</th>\n",
              "      <th>Department</th>\n",
              "      <th>Ward_Type</th>\n",
              "      <th>Ward_Facility_Code</th>\n",
              "      <th>Bed Grade</th>\n",
              "      <th>Type of Admission</th>\n",
              "      <th>Severity of Illness</th>\n",
              "      <th>Visitors with Patient</th>\n",
              "      <th>Age</th>\n",
              "      <th>Admission_Deposit</th>\n",
              "      <th>Stay</th>\n",
              "    </tr>\n",
              "  </thead>\n",
              "  <tbody>\n",
              "    <tr>\n",
              "      <th>0</th>\n",
              "      <td>8</td>\n",
              "      <td>2</td>\n",
              "      <td>3</td>\n",
              "      <td>2</td>\n",
              "      <td>3</td>\n",
              "      <td>3</td>\n",
              "      <td>2</td>\n",
              "      <td>5</td>\n",
              "      <td>2.0</td>\n",
              "      <td>0</td>\n",
              "      <td>0</td>\n",
              "      <td>2</td>\n",
              "      <td>5</td>\n",
              "      <td>0.006086</td>\n",
              "      <td>0</td>\n",
              "    </tr>\n",
              "    <tr>\n",
              "      <th>1</th>\n",
              "      <td>2</td>\n",
              "      <td>2</td>\n",
              "      <td>5</td>\n",
              "      <td>2</td>\n",
              "      <td>2</td>\n",
              "      <td>3</td>\n",
              "      <td>3</td>\n",
              "      <td>5</td>\n",
              "      <td>2.0</td>\n",
              "      <td>1</td>\n",
              "      <td>0</td>\n",
              "      <td>2</td>\n",
              "      <td>5</td>\n",
              "      <td>0.979863</td>\n",
              "      <td>2</td>\n",
              "    </tr>\n",
              "  </tbody>\n",
              "</table>\n",
              "</div>"
            ],
            "text/plain": [
              "   Hospital_code  Hospital_type_code  ...  Admission_Deposit  Stay\n",
              "0              8                   2  ...           0.006086     0\n",
              "1              2                   2  ...           0.979863     2\n",
              "\n",
              "[2 rows x 15 columns]"
            ]
          },
          "metadata": {
            "tags": []
          },
          "execution_count": 17
        }
      ]
    },
    {
      "cell_type": "code",
      "metadata": {
        "id": "UY5aDz8dc9aM",
        "outputId": "d379de90-e238-4464-eb1e-c649a8542407",
        "colab": {
          "base_uri": "https://localhost:8080/",
          "height": 33
        }
      },
      "source": [
        "#Checking the number of rows and columns\n",
        "train.shape"
      ],
      "execution_count": null,
      "outputs": [
        {
          "output_type": "execute_result",
          "data": {
            "text/plain": [
              "(244313, 15)"
            ]
          },
          "metadata": {
            "tags": []
          },
          "execution_count": 18
        }
      ]
    },
    {
      "cell_type": "code",
      "metadata": {
        "id": "M1Brib1YFzVN"
      },
      "source": [
        "#Spliiting the independent and dependent variables\n",
        "dataset = train.values\n",
        "X = dataset[:,0:14].astype(float)\n",
        "Y = dataset[:,14]"
      ],
      "execution_count": null,
      "outputs": []
    },
    {
      "cell_type": "code",
      "metadata": {
        "id": "hbZMgG9pSK68"
      },
      "source": [
        "#Creating dummy for the target classes\n",
        "encoder = LabelEncoder()\n",
        "encoder.fit(Y)\n",
        "encoded_Y = encoder.transform(Y)\n",
        "dummy_y = np_utils.to_categorical(encoded_Y)"
      ],
      "execution_count": null,
      "outputs": []
    },
    {
      "cell_type": "code",
      "metadata": {
        "id": "YYVZ2BBZCIQt"
      },
      "source": [
        "#Creating a loss metric Cohen Kappa using tensorflow addon\n",
        "lossfunc=tfa.metrics.CohenKappa(num_classes=5,sparse_labels=False)"
      ],
      "execution_count": null,
      "outputs": []
    },
    {
      "cell_type": "code",
      "metadata": {
        "id": "wjegU3y3CZG8",
        "outputId": "c2d4b703-87e1-4fd8-bbcb-471d98dc3421",
        "colab": {
          "base_uri": "https://localhost:8080/",
          "height": 1000
        }
      },
      "source": [
        "#model development\n",
        "model=Sequential([\n",
        "                        Dense(14, input_shape=(14,),activation='relu'),\n",
        "                        Dense(8,activation='relu'),\n",
        "                        Dense(5,activation='softmax')\n",
        "])\n",
        "model.compile(optimizer='adam',\n",
        "              loss='categorical_crossentropy',\n",
        "              metrics=lossfunc\n",
        "              )\n",
        "model.fit(X,dummy_y,epochs=100)"
      ],
      "execution_count": null,
      "outputs": [
        {
          "output_type": "stream",
          "text": [
            "Epoch 1/100\n",
            "7635/7635 [==============================] - 10s 1ms/step - loss: 1.1580 - cohen_kappa: 0.1349\n",
            "Epoch 2/100\n",
            "7635/7635 [==============================] - 9s 1ms/step - loss: 1.1000 - cohen_kappa: 0.1941\n",
            "Epoch 3/100\n",
            "7635/7635 [==============================] - 9s 1ms/step - loss: 1.0885 - cohen_kappa: 0.2091\n",
            "Epoch 4/100\n",
            "7635/7635 [==============================] - 9s 1ms/step - loss: 1.0832 - cohen_kappa: 0.2151\n",
            "Epoch 5/100\n",
            "7635/7635 [==============================] - 9s 1ms/step - loss: 1.0809 - cohen_kappa: 0.2182\n",
            "Epoch 6/100\n",
            "7635/7635 [==============================] - 9s 1ms/step - loss: 1.0770 - cohen_kappa: 0.2228\n",
            "Epoch 7/100\n",
            "7635/7635 [==============================] - 9s 1ms/step - loss: 1.0749 - cohen_kappa: 0.2263\n",
            "Epoch 8/100\n",
            "7635/7635 [==============================] - 9s 1ms/step - loss: 1.0736 - cohen_kappa: 0.2266\n",
            "Epoch 9/100\n",
            "7635/7635 [==============================] - 9s 1ms/step - loss: 1.0729 - cohen_kappa: 0.2277\n",
            "Epoch 10/100\n",
            "7635/7635 [==============================] - 9s 1ms/step - loss: 1.0721 - cohen_kappa: 0.2316\n",
            "Epoch 11/100\n",
            "7635/7635 [==============================] - 9s 1ms/step - loss: 1.0715 - cohen_kappa: 0.2316\n",
            "Epoch 12/100\n",
            "7635/7635 [==============================] - 9s 1ms/step - loss: 1.0706 - cohen_kappa: 0.2330\n",
            "Epoch 13/100\n",
            "7635/7635 [==============================] - 9s 1ms/step - loss: 1.0697 - cohen_kappa: 0.2332\n",
            "Epoch 14/100\n",
            "7635/7635 [==============================] - 9s 1ms/step - loss: 1.0692 - cohen_kappa: 0.2348\n",
            "Epoch 15/100\n",
            "7635/7635 [==============================] - 9s 1ms/step - loss: 1.0683 - cohen_kappa: 0.2353\n",
            "Epoch 16/100\n",
            "7635/7635 [==============================] - 9s 1ms/step - loss: 1.0676 - cohen_kappa: 0.2371\n",
            "Epoch 17/100\n",
            "7635/7635 [==============================] - 9s 1ms/step - loss: 1.0671 - cohen_kappa: 0.2386\n",
            "Epoch 18/100\n",
            "7635/7635 [==============================] - 9s 1ms/step - loss: 1.0667 - cohen_kappa: 0.2387\n",
            "Epoch 19/100\n",
            "7635/7635 [==============================] - 9s 1ms/step - loss: 1.0666 - cohen_kappa: 0.2385\n",
            "Epoch 20/100\n",
            "7635/7635 [==============================] - 9s 1ms/step - loss: 1.0658 - cohen_kappa: 0.2404\n",
            "Epoch 21/100\n",
            "7635/7635 [==============================] - 9s 1ms/step - loss: 1.0654 - cohen_kappa: 0.2395\n",
            "Epoch 22/100\n",
            "7635/7635 [==============================] - 9s 1ms/step - loss: 1.0648 - cohen_kappa: 0.2405\n",
            "Epoch 23/100\n",
            "7635/7635 [==============================] - 9s 1ms/step - loss: 1.0641 - cohen_kappa: 0.2428\n",
            "Epoch 24/100\n",
            "7635/7635 [==============================] - 9s 1ms/step - loss: 1.0638 - cohen_kappa: 0.2430\n",
            "Epoch 25/100\n",
            "7635/7635 [==============================] - 9s 1ms/step - loss: 1.0638 - cohen_kappa: 0.2422\n",
            "Epoch 26/100\n",
            "7635/7635 [==============================] - 9s 1ms/step - loss: 1.0634 - cohen_kappa: 0.2447\n",
            "Epoch 27/100\n",
            "7635/7635 [==============================] - 9s 1ms/step - loss: 1.0632 - cohen_kappa: 0.2430\n",
            "Epoch 28/100\n",
            "7635/7635 [==============================] - 9s 1ms/step - loss: 1.0631 - cohen_kappa: 0.2445\n",
            "Epoch 29/100\n",
            "7635/7635 [==============================] - 9s 1ms/step - loss: 1.0627 - cohen_kappa: 0.2449\n",
            "Epoch 30/100\n",
            "7635/7635 [==============================] - 9s 1ms/step - loss: 1.0628 - cohen_kappa: 0.2457\n",
            "Epoch 31/100\n",
            "7635/7635 [==============================] - 9s 1ms/step - loss: 1.0624 - cohen_kappa: 0.2444\n",
            "Epoch 32/100\n",
            "7635/7635 [==============================] - 9s 1ms/step - loss: 1.0624 - cohen_kappa: 0.2461\n",
            "Epoch 33/100\n",
            "7635/7635 [==============================] - 9s 1ms/step - loss: 1.0623 - cohen_kappa: 0.2469\n",
            "Epoch 34/100\n",
            "7635/7635 [==============================] - 9s 1ms/step - loss: 1.0623 - cohen_kappa: 0.2468\n",
            "Epoch 35/100\n",
            "7635/7635 [==============================] - 9s 1ms/step - loss: 1.0618 - cohen_kappa: 0.2469\n",
            "Epoch 36/100\n",
            "7635/7635 [==============================] - 10s 1ms/step - loss: 1.0618 - cohen_kappa: 0.2472\n",
            "Epoch 37/100\n",
            "7635/7635 [==============================] - 10s 1ms/step - loss: 1.0619 - cohen_kappa: 0.2475\n",
            "Epoch 38/100\n",
            "7635/7635 [==============================] - 9s 1ms/step - loss: 1.0618 - cohen_kappa: 0.2493\n",
            "Epoch 39/100\n",
            "7635/7635 [==============================] - 9s 1ms/step - loss: 1.0614 - cohen_kappa: 0.2490\n",
            "Epoch 40/100\n",
            "7635/7635 [==============================] - 9s 1ms/step - loss: 1.0616 - cohen_kappa: 0.2493\n",
            "Epoch 41/100\n",
            "7635/7635 [==============================] - 9s 1ms/step - loss: 1.0618 - cohen_kappa: 0.2493\n",
            "Epoch 42/100\n",
            "7635/7635 [==============================] - 9s 1ms/step - loss: 1.0615 - cohen_kappa: 0.2484\n",
            "Epoch 43/100\n",
            "7635/7635 [==============================] - 9s 1ms/step - loss: 1.0615 - cohen_kappa: 0.2494\n",
            "Epoch 44/100\n",
            "7635/7635 [==============================] - 9s 1ms/step - loss: 1.0614 - cohen_kappa: 0.2509\n",
            "Epoch 45/100\n",
            "7635/7635 [==============================] - 9s 1ms/step - loss: 1.0611 - cohen_kappa: 0.2491\n",
            "Epoch 46/100\n",
            "7635/7635 [==============================] - 9s 1ms/step - loss: 1.0612 - cohen_kappa: 0.2490\n",
            "Epoch 47/100\n",
            "7635/7635 [==============================] - 9s 1ms/step - loss: 1.0612 - cohen_kappa: 0.2498\n",
            "Epoch 48/100\n",
            "7635/7635 [==============================] - 9s 1ms/step - loss: 1.0611 - cohen_kappa: 0.2492\n",
            "Epoch 49/100\n",
            "7635/7635 [==============================] - 9s 1ms/step - loss: 1.0610 - cohen_kappa: 0.2500\n",
            "Epoch 50/100\n",
            "7635/7635 [==============================] - 9s 1ms/step - loss: 1.0610 - cohen_kappa: 0.2505\n",
            "Epoch 51/100\n",
            "7635/7635 [==============================] - 9s 1ms/step - loss: 1.0610 - cohen_kappa: 0.2507\n",
            "Epoch 52/100\n",
            "7635/7635 [==============================] - 9s 1ms/step - loss: 1.0608 - cohen_kappa: 0.2501\n",
            "Epoch 53/100\n",
            "7635/7635 [==============================] - 9s 1ms/step - loss: 1.0611 - cohen_kappa: 0.2497\n",
            "Epoch 54/100\n",
            "7635/7635 [==============================] - 9s 1ms/step - loss: 1.0610 - cohen_kappa: 0.2495\n",
            "Epoch 55/100\n",
            "7635/7635 [==============================] - 9s 1ms/step - loss: 1.0609 - cohen_kappa: 0.2501\n",
            "Epoch 56/100\n",
            "7635/7635 [==============================] - 9s 1ms/step - loss: 1.0608 - cohen_kappa: 0.2512\n",
            "Epoch 57/100\n",
            "7635/7635 [==============================] - 9s 1ms/step - loss: 1.0608 - cohen_kappa: 0.2507\n",
            "Epoch 58/100\n",
            "7635/7635 [==============================] - 9s 1ms/step - loss: 1.0606 - cohen_kappa: 0.2507\n",
            "Epoch 59/100\n",
            "7635/7635 [==============================] - 9s 1ms/step - loss: 1.0606 - cohen_kappa: 0.2496\n",
            "Epoch 60/100\n",
            "7635/7635 [==============================] - 9s 1ms/step - loss: 1.0607 - cohen_kappa: 0.2507\n",
            "Epoch 61/100\n",
            "7635/7635 [==============================] - 9s 1ms/step - loss: 1.0606 - cohen_kappa: 0.2511\n",
            "Epoch 62/100\n",
            "7635/7635 [==============================] - 9s 1ms/step - loss: 1.0608 - cohen_kappa: 0.2508\n",
            "Epoch 63/100\n",
            "7635/7635 [==============================] - 9s 1ms/step - loss: 1.0603 - cohen_kappa: 0.2508\n",
            "Epoch 64/100\n",
            "7635/7635 [==============================] - 9s 1ms/step - loss: 1.0606 - cohen_kappa: 0.2512\n",
            "Epoch 65/100\n",
            "7635/7635 [==============================] - 9s 1ms/step - loss: 1.0604 - cohen_kappa: 0.2514\n",
            "Epoch 66/100\n",
            "7635/7635 [==============================] - 9s 1ms/step - loss: 1.0603 - cohen_kappa: 0.2520\n",
            "Epoch 67/100\n",
            "7635/7635 [==============================] - 10s 1ms/step - loss: 1.0604 - cohen_kappa: 0.2510\n",
            "Epoch 68/100\n",
            "7635/7635 [==============================] - 9s 1ms/step - loss: 1.0602 - cohen_kappa: 0.2519\n",
            "Epoch 69/100\n",
            "7635/7635 [==============================] - 9s 1ms/step - loss: 1.0602 - cohen_kappa: 0.2530\n",
            "Epoch 70/100\n",
            "7635/7635 [==============================] - 9s 1ms/step - loss: 1.0601 - cohen_kappa: 0.2530\n",
            "Epoch 71/100\n",
            "7635/7635 [==============================] - 9s 1ms/step - loss: 1.0600 - cohen_kappa: 0.2532\n",
            "Epoch 72/100\n",
            "7635/7635 [==============================] - 10s 1ms/step - loss: 1.0598 - cohen_kappa: 0.2533\n",
            "Epoch 73/100\n",
            "7635/7635 [==============================] - 10s 1ms/step - loss: 1.0599 - cohen_kappa: 0.2527\n",
            "Epoch 74/100\n",
            "7635/7635 [==============================] - 10s 1ms/step - loss: 1.0599 - cohen_kappa: 0.2529\n",
            "Epoch 75/100\n",
            "7635/7635 [==============================] - 9s 1ms/step - loss: 1.0599 - cohen_kappa: 0.2531\n",
            "Epoch 76/100\n",
            "7635/7635 [==============================] - 9s 1ms/step - loss: 1.0599 - cohen_kappa: 0.2535\n",
            "Epoch 77/100\n",
            "7635/7635 [==============================] - 9s 1ms/step - loss: 1.0595 - cohen_kappa: 0.2535\n",
            "Epoch 78/100\n",
            "7635/7635 [==============================] - 9s 1ms/step - loss: 1.0595 - cohen_kappa: 0.2536\n",
            "Epoch 79/100\n",
            "7635/7635 [==============================] - 9s 1ms/step - loss: 1.0596 - cohen_kappa: 0.2545\n",
            "Epoch 80/100\n",
            "7635/7635 [==============================] - 9s 1ms/step - loss: 1.0597 - cohen_kappa: 0.2544\n",
            "Epoch 81/100\n",
            "7635/7635 [==============================] - 9s 1ms/step - loss: 1.0594 - cohen_kappa: 0.2539\n",
            "Epoch 82/100\n",
            "7635/7635 [==============================] - 9s 1ms/step - loss: 1.0590 - cohen_kappa: 0.2542\n",
            "Epoch 83/100\n",
            "7635/7635 [==============================] - 9s 1ms/step - loss: 1.0590 - cohen_kappa: 0.2552\n",
            "Epoch 84/100\n",
            "7635/7635 [==============================] - 9s 1ms/step - loss: 1.0591 - cohen_kappa: 0.2548\n",
            "Epoch 85/100\n",
            "7635/7635 [==============================] - 9s 1ms/step - loss: 1.0588 - cohen_kappa: 0.2557\n",
            "Epoch 86/100\n",
            "7635/7635 [==============================] - 9s 1ms/step - loss: 1.0588 - cohen_kappa: 0.2557\n",
            "Epoch 87/100\n",
            "7635/7635 [==============================] - 9s 1ms/step - loss: 1.0588 - cohen_kappa: 0.2563\n",
            "Epoch 88/100\n",
            "7635/7635 [==============================] - 9s 1ms/step - loss: 1.0588 - cohen_kappa: 0.2558\n",
            "Epoch 89/100\n",
            "7635/7635 [==============================] - 9s 1ms/step - loss: 1.0585 - cohen_kappa: 0.2573\n",
            "Epoch 90/100\n",
            "7635/7635 [==============================] - 9s 1ms/step - loss: 1.0586 - cohen_kappa: 0.2555\n",
            "Epoch 91/100\n",
            "7635/7635 [==============================] - 9s 1ms/step - loss: 1.0585 - cohen_kappa: 0.2554\n",
            "Epoch 92/100\n",
            "7635/7635 [==============================] - 9s 1ms/step - loss: 1.0585 - cohen_kappa: 0.2573\n",
            "Epoch 93/100\n",
            "7635/7635 [==============================] - 9s 1ms/step - loss: 1.0583 - cohen_kappa: 0.2563\n",
            "Epoch 94/100\n",
            "7635/7635 [==============================] - 9s 1ms/step - loss: 1.0583 - cohen_kappa: 0.2567\n",
            "Epoch 95/100\n",
            "7635/7635 [==============================] - 9s 1ms/step - loss: 1.0582 - cohen_kappa: 0.2560\n",
            "Epoch 96/100\n",
            "7635/7635 [==============================] - 9s 1ms/step - loss: 1.0584 - cohen_kappa: 0.2562\n",
            "Epoch 97/100\n",
            "7635/7635 [==============================] - 9s 1ms/step - loss: 1.0584 - cohen_kappa: 0.2572\n",
            "Epoch 98/100\n",
            "7635/7635 [==============================] - 9s 1ms/step - loss: 1.0582 - cohen_kappa: 0.2564\n",
            "Epoch 99/100\n",
            "7635/7635 [==============================] - 9s 1ms/step - loss: 1.0582 - cohen_kappa: 0.2563\n",
            "Epoch 100/100\n",
            "7635/7635 [==============================] - 9s 1ms/step - loss: 1.0581 - cohen_kappa: 0.2570\n"
          ],
          "name": "stdout"
        },
        {
          "output_type": "execute_result",
          "data": {
            "text/plain": [
              "<tensorflow.python.keras.callbacks.History at 0x7f6da1b44748>"
            ]
          },
          "metadata": {
            "tags": []
          },
          "execution_count": 22
        }
      ]
    },
    {
      "cell_type": "code",
      "metadata": {
        "id": "oRTclOhsg0V9",
        "outputId": "0844a796-46b7-4ff7-817d-7b7456ae4b16",
        "colab": {
          "base_uri": "https://localhost:8080/",
          "height": 33
        }
      },
      "source": [
        "#Checking the number of rows and columns in test data\n",
        "test.shape"
      ],
      "execution_count": null,
      "outputs": [
        {
          "output_type": "execute_result",
          "data": {
            "text/plain": [
              "(73790, 15)"
            ]
          },
          "metadata": {
            "tags": []
          },
          "execution_count": 23
        }
      ]
    },
    {
      "cell_type": "code",
      "metadata": {
        "id": "_4mAfk6fh0Qm"
      },
      "source": [
        "#Grouping the target output classes as mentioned in the problem statement\n",
        "test['Stay'] = test['Stay'].replace(['0-10'],'0-20')\n",
        "test['Stay'] = test['Stay'].replace(['11-20'],'0-20')\n",
        "test['Stay'] = test['Stay'].replace(['21-30'],'21-40')\n",
        "test['Stay'] = test['Stay'].replace(['31-40'],'21-40')\n",
        "test['Stay'] = test['Stay'].replace(['41-50'],'41-60')\n",
        "test['Stay'] = test['Stay'].replace(['51-60'],'41-60')\n",
        "test['Stay'] = test['Stay'].replace(['61-70'],'61-80')\n",
        "test['Stay'] = test['Stay'].replace(['71-80'],'61-80')\n",
        "test['Stay'] = test['Stay'].replace(['81-90'],'More_than_80')\n",
        "test['Stay'] = test['Stay'].replace(['91-100'],'More_than_80')\n",
        "test['Stay'] = test['Stay'].replace(['More than 100 Days'],'More_than_80')"
      ],
      "execution_count": null,
      "outputs": []
    },
    {
      "cell_type": "code",
      "metadata": {
        "id": "bIUXEdi2iynO",
        "outputId": "8182c9f9-13c3-4679-ef84-ab6be2b4c30e",
        "colab": {
          "base_uri": "https://localhost:8080/",
          "height": 116
        }
      },
      "source": [
        "#Rechecking the target output classes\n",
        "test[\"Stay\"].value_counts()"
      ],
      "execution_count": null,
      "outputs": [
        {
          "output_type": "execute_result",
          "data": {
            "text/plain": [
              "21-40           31137\n",
              "0-20            27576\n",
              "41-60            9613\n",
              "More_than_80     2893\n",
              "61-80            2571\n",
              "Name: Stay, dtype: int64"
            ]
          },
          "metadata": {
            "tags": []
          },
          "execution_count": 25
        }
      ]
    },
    {
      "cell_type": "code",
      "metadata": {
        "id": "7t_VAtjGjDPH"
      },
      "source": [
        "#Label encoding the categorical variables\n",
        "colnames = list(test.columns)\n",
        "label_encoder = preprocessing.LabelEncoder() \n",
        "for col in colnames:\n",
        "    if test[col].dtype==object:\n",
        "        test[col]= label_encoder.fit_transform(test[col])"
      ],
      "execution_count": null,
      "outputs": []
    },
    {
      "cell_type": "code",
      "metadata": {
        "id": "NSJWXL5Pjfvl"
      },
      "source": [
        "#Standardising the numerical variable\n",
        "test[\"Admission_Deposit\"]= (test[\"Admission_Deposit\"] - test[\"Admission_Deposit\"].mean())/test[\"Admission_Deposit\"].std()"
      ],
      "execution_count": null,
      "outputs": []
    },
    {
      "cell_type": "code",
      "metadata": {
        "id": "RJ_0gW1Yklv8"
      },
      "source": [
        "#Splitting data into depedent and independent variables\n",
        "dataset = test.values\n",
        "X_test = dataset[:,0:14].astype(float)\n",
        "Y_test = dataset[:,14]"
      ],
      "execution_count": null,
      "outputs": []
    },
    {
      "cell_type": "code",
      "metadata": {
        "id": "5YxMt2TdlUE4"
      },
      "source": [
        "#Creating dummy for the target classes\n",
        "encoder = LabelEncoder()\n",
        "encoder.fit(Y_test)\n",
        "encoded_Y = encoder.transform(Y_test)\n",
        "dummy_ytest = np_utils.to_categorical(encoded_Y)"
      ],
      "execution_count": null,
      "outputs": []
    },
    {
      "cell_type": "code",
      "metadata": {
        "id": "K7q0k-AMjsGn",
        "outputId": "570843a2-1e44-4798-f722-40d70ccd2692",
        "colab": {
          "base_uri": "https://localhost:8080/",
          "height": 33
        }
      },
      "source": [
        "#Evaluating the test data\n",
        "score = model.evaluate(X_test, dummy_ytest)"
      ],
      "execution_count": null,
      "outputs": [
        {
          "output_type": "stream",
          "text": [
            "2306/2306 [==============================] - 2s 979us/step - loss: 1.0647 - cohen_kappa: 0.2416\n"
          ],
          "name": "stdout"
        }
      ]
    },
    {
      "cell_type": "code",
      "metadata": {
        "id": "lpvVfxXml3LQ"
      },
      "source": [
        ""
      ],
      "execution_count": null,
      "outputs": []
    }
  ]
}
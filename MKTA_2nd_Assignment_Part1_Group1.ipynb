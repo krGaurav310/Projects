{
  "nbformat": 4,
  "nbformat_minor": 0,
  "metadata": {
    "colab": {
      "name": "MKTA_2nd_Assignment.ipynb",
      "provenance": [],
      "collapsed_sections": []
    },
    "kernelspec": {
      "name": "python3",
      "display_name": "Python 3"
    }
  },
  "cells": [
    {
      "cell_type": "code",
      "metadata": {
        "id": "rm4Otj551TG5",
        "colab_type": "code",
        "colab": {
          "resources": {
            "http://localhost:8080/nbextensions/google.colab/files.js": {
              "data": "Ly8gQ29weXJpZ2h0IDIwMTcgR29vZ2xlIExMQwovLwovLyBMaWNlbnNlZCB1bmRlciB0aGUgQXBhY2hlIExpY2Vuc2UsIFZlcnNpb24gMi4wICh0aGUgIkxpY2Vuc2UiKTsKLy8geW91IG1heSBub3QgdXNlIHRoaXMgZmlsZSBleGNlcHQgaW4gY29tcGxpYW5jZSB3aXRoIHRoZSBMaWNlbnNlLgovLyBZb3UgbWF5IG9idGFpbiBhIGNvcHkgb2YgdGhlIExpY2Vuc2UgYXQKLy8KLy8gICAgICBodHRwOi8vd3d3LmFwYWNoZS5vcmcvbGljZW5zZXMvTElDRU5TRS0yLjAKLy8KLy8gVW5sZXNzIHJlcXVpcmVkIGJ5IGFwcGxpY2FibGUgbGF3IG9yIGFncmVlZCB0byBpbiB3cml0aW5nLCBzb2Z0d2FyZQovLyBkaXN0cmlidXRlZCB1bmRlciB0aGUgTGljZW5zZSBpcyBkaXN0cmlidXRlZCBvbiBhbiAiQVMgSVMiIEJBU0lTLAovLyBXSVRIT1VUIFdBUlJBTlRJRVMgT1IgQ09ORElUSU9OUyBPRiBBTlkgS0lORCwgZWl0aGVyIGV4cHJlc3Mgb3IgaW1wbGllZC4KLy8gU2VlIHRoZSBMaWNlbnNlIGZvciB0aGUgc3BlY2lmaWMgbGFuZ3VhZ2UgZ292ZXJuaW5nIHBlcm1pc3Npb25zIGFuZAovLyBsaW1pdGF0aW9ucyB1bmRlciB0aGUgTGljZW5zZS4KCi8qKgogKiBAZmlsZW92ZXJ2aWV3IEhlbHBlcnMgZm9yIGdvb2dsZS5jb2xhYiBQeXRob24gbW9kdWxlLgogKi8KKGZ1bmN0aW9uKHNjb3BlKSB7CmZ1bmN0aW9uIHNwYW4odGV4dCwgc3R5bGVBdHRyaWJ1dGVzID0ge30pIHsKICBjb25zdCBlbGVtZW50ID0gZG9jdW1lbnQuY3JlYXRlRWxlbWVudCgnc3BhbicpOwogIGVsZW1lbnQudGV4dENvbnRlbnQgPSB0ZXh0OwogIGZvciAoY29uc3Qga2V5IG9mIE9iamVjdC5rZXlzKHN0eWxlQXR0cmlidXRlcykpIHsKICAgIGVsZW1lbnQuc3R5bGVba2V5XSA9IHN0eWxlQXR0cmlidXRlc1trZXldOwogIH0KICByZXR1cm4gZWxlbWVudDsKfQoKLy8gTWF4IG51bWJlciBvZiBieXRlcyB3aGljaCB3aWxsIGJlIHVwbG9hZGVkIGF0IGEgdGltZS4KY29uc3QgTUFYX1BBWUxPQURfU0laRSA9IDEwMCAqIDEwMjQ7CgpmdW5jdGlvbiBfdXBsb2FkRmlsZXMoaW5wdXRJZCwgb3V0cHV0SWQpIHsKICBjb25zdCBzdGVwcyA9IHVwbG9hZEZpbGVzU3RlcChpbnB1dElkLCBvdXRwdXRJZCk7CiAgY29uc3Qgb3V0cHV0RWxlbWVudCA9IGRvY3VtZW50LmdldEVsZW1lbnRCeUlkKG91dHB1dElkKTsKICAvLyBDYWNoZSBzdGVwcyBvbiB0aGUgb3V0cHV0RWxlbWVudCB0byBtYWtlIGl0IGF2YWlsYWJsZSBmb3IgdGhlIG5leHQgY2FsbAogIC8vIHRvIHVwbG9hZEZpbGVzQ29udGludWUgZnJvbSBQeXRob24uCiAgb3V0cHV0RWxlbWVudC5zdGVwcyA9IHN0ZXBzOwoKICByZXR1cm4gX3VwbG9hZEZpbGVzQ29udGludWUob3V0cHV0SWQpOwp9CgovLyBUaGlzIGlzIHJvdWdobHkgYW4gYXN5bmMgZ2VuZXJhdG9yIChub3Qgc3VwcG9ydGVkIGluIHRoZSBicm93c2VyIHlldCksCi8vIHdoZXJlIHRoZXJlIGFyZSBtdWx0aXBsZSBhc3luY2hyb25vdXMgc3RlcHMgYW5kIHRoZSBQeXRob24gc2lkZSBpcyBnb2luZwovLyB0byBwb2xsIGZvciBjb21wbGV0aW9uIG9mIGVhY2ggc3RlcC4KLy8gVGhpcyB1c2VzIGEgUHJvbWlzZSB0byBibG9jayB0aGUgcHl0aG9uIHNpZGUgb24gY29tcGxldGlvbiBvZiBlYWNoIHN0ZXAsCi8vIHRoZW4gcGFzc2VzIHRoZSByZXN1bHQgb2YgdGhlIHByZXZpb3VzIHN0ZXAgYXMgdGhlIGlucHV0IHRvIHRoZSBuZXh0IHN0ZXAuCmZ1bmN0aW9uIF91cGxvYWRGaWxlc0NvbnRpbnVlKG91dHB1dElkKSB7CiAgY29uc3Qgb3V0cHV0RWxlbWVudCA9IGRvY3VtZW50LmdldEVsZW1lbnRCeUlkKG91dHB1dElkKTsKICBjb25zdCBzdGVwcyA9IG91dHB1dEVsZW1lbnQuc3RlcHM7CgogIGNvbnN0IG5leHQgPSBzdGVwcy5uZXh0KG91dHB1dEVsZW1lbnQubGFzdFByb21pc2VWYWx1ZSk7CiAgcmV0dXJuIFByb21pc2UucmVzb2x2ZShuZXh0LnZhbHVlLnByb21pc2UpLnRoZW4oKHZhbHVlKSA9PiB7CiAgICAvLyBDYWNoZSB0aGUgbGFzdCBwcm9taXNlIHZhbHVlIHRvIG1ha2UgaXQgYXZhaWxhYmxlIHRvIHRoZSBuZXh0CiAgICAvLyBzdGVwIG9mIHRoZSBnZW5lcmF0b3IuCiAgICBvdXRwdXRFbGVtZW50Lmxhc3RQcm9taXNlVmFsdWUgPSB2YWx1ZTsKICAgIHJldHVybiBuZXh0LnZhbHVlLnJlc3BvbnNlOwogIH0pOwp9CgovKioKICogR2VuZXJhdG9yIGZ1bmN0aW9uIHdoaWNoIGlzIGNhbGxlZCBiZXR3ZWVuIGVhY2ggYXN5bmMgc3RlcCBvZiB0aGUgdXBsb2FkCiAqIHByb2Nlc3MuCiAqIEBwYXJhbSB7c3RyaW5nfSBpbnB1dElkIEVsZW1lbnQgSUQgb2YgdGhlIGlucHV0IGZpbGUgcGlja2VyIGVsZW1lbnQuCiAqIEBwYXJhbSB7c3RyaW5nfSBvdXRwdXRJZCBFbGVtZW50IElEIG9mIHRoZSBvdXRwdXQgZGlzcGxheS4KICogQHJldHVybiB7IUl0ZXJhYmxlPCFPYmplY3Q+fSBJdGVyYWJsZSBvZiBuZXh0IHN0ZXBzLgogKi8KZnVuY3Rpb24qIHVwbG9hZEZpbGVzU3RlcChpbnB1dElkLCBvdXRwdXRJZCkgewogIGNvbnN0IGlucHV0RWxlbWVudCA9IGRvY3VtZW50LmdldEVsZW1lbnRCeUlkKGlucHV0SWQpOwogIGlucHV0RWxlbWVudC5kaXNhYmxlZCA9IGZhbHNlOwoKICBjb25zdCBvdXRwdXRFbGVtZW50ID0gZG9jdW1lbnQuZ2V0RWxlbWVudEJ5SWQob3V0cHV0SWQpOwogIG91dHB1dEVsZW1lbnQuaW5uZXJIVE1MID0gJyc7CgogIGNvbnN0IHBpY2tlZFByb21pc2UgPSBuZXcgUHJvbWlzZSgocmVzb2x2ZSkgPT4gewogICAgaW5wdXRFbGVtZW50LmFkZEV2ZW50TGlzdGVuZXIoJ2NoYW5nZScsIChlKSA9PiB7CiAgICAgIHJlc29sdmUoZS50YXJnZXQuZmlsZXMpOwogICAgfSk7CiAgfSk7CgogIGNvbnN0IGNhbmNlbCA9IGRvY3VtZW50LmNyZWF0ZUVsZW1lbnQoJ2J1dHRvbicpOwogIGlucHV0RWxlbWVudC5wYXJlbnRFbGVtZW50LmFwcGVuZENoaWxkKGNhbmNlbCk7CiAgY2FuY2VsLnRleHRDb250ZW50ID0gJ0NhbmNlbCB1cGxvYWQnOwogIGNvbnN0IGNhbmNlbFByb21pc2UgPSBuZXcgUHJvbWlzZSgocmVzb2x2ZSkgPT4gewogICAgY2FuY2VsLm9uY2xpY2sgPSAoKSA9PiB7CiAgICAgIHJlc29sdmUobnVsbCk7CiAgICB9OwogIH0pOwoKICAvLyBXYWl0IGZvciB0aGUgdXNlciB0byBwaWNrIHRoZSBmaWxlcy4KICBjb25zdCBmaWxlcyA9IHlpZWxkIHsKICAgIHByb21pc2U6IFByb21pc2UucmFjZShbcGlja2VkUHJvbWlzZSwgY2FuY2VsUHJvbWlzZV0pLAogICAgcmVzcG9uc2U6IHsKICAgICAgYWN0aW9uOiAnc3RhcnRpbmcnLAogICAgfQogIH07CgogIGNhbmNlbC5yZW1vdmUoKTsKCiAgLy8gRGlzYWJsZSB0aGUgaW5wdXQgZWxlbWVudCBzaW5jZSBmdXJ0aGVyIHBpY2tzIGFyZSBub3QgYWxsb3dlZC4KICBpbnB1dEVsZW1lbnQuZGlzYWJsZWQgPSB0cnVlOwoKICBpZiAoIWZpbGVzKSB7CiAgICByZXR1cm4gewogICAgICByZXNwb25zZTogewogICAgICAgIGFjdGlvbjogJ2NvbXBsZXRlJywKICAgICAgfQogICAgfTsKICB9CgogIGZvciAoY29uc3QgZmlsZSBvZiBmaWxlcykgewogICAgY29uc3QgbGkgPSBkb2N1bWVudC5jcmVhdGVFbGVtZW50KCdsaScpOwogICAgbGkuYXBwZW5kKHNwYW4oZmlsZS5uYW1lLCB7Zm9udFdlaWdodDogJ2JvbGQnfSkpOwogICAgbGkuYXBwZW5kKHNwYW4oCiAgICAgICAgYCgke2ZpbGUudHlwZSB8fCAnbi9hJ30pIC0gJHtmaWxlLnNpemV9IGJ5dGVzLCBgICsKICAgICAgICBgbGFzdCBtb2RpZmllZDogJHsKICAgICAgICAgICAgZmlsZS5sYXN0TW9kaWZpZWREYXRlID8gZmlsZS5sYXN0TW9kaWZpZWREYXRlLnRvTG9jYWxlRGF0ZVN0cmluZygpIDoKICAgICAgICAgICAgICAgICAgICAgICAgICAgICAgICAgICAgJ24vYSd9IC0gYCkpOwogICAgY29uc3QgcGVyY2VudCA9IHNwYW4oJzAlIGRvbmUnKTsKICAgIGxpLmFwcGVuZENoaWxkKHBlcmNlbnQpOwoKICAgIG91dHB1dEVsZW1lbnQuYXBwZW5kQ2hpbGQobGkpOwoKICAgIGNvbnN0IGZpbGVEYXRhUHJvbWlzZSA9IG5ldyBQcm9taXNlKChyZXNvbHZlKSA9PiB7CiAgICAgIGNvbnN0IHJlYWRlciA9IG5ldyBGaWxlUmVhZGVyKCk7CiAgICAgIHJlYWRlci5vbmxvYWQgPSAoZSkgPT4gewogICAgICAgIHJlc29sdmUoZS50YXJnZXQucmVzdWx0KTsKICAgICAgfTsKICAgICAgcmVhZGVyLnJlYWRBc0FycmF5QnVmZmVyKGZpbGUpOwogICAgfSk7CiAgICAvLyBXYWl0IGZvciB0aGUgZGF0YSB0byBiZSByZWFkeS4KICAgIGxldCBmaWxlRGF0YSA9IHlpZWxkIHsKICAgICAgcHJvbWlzZTogZmlsZURhdGFQcm9taXNlLAogICAgICByZXNwb25zZTogewogICAgICAgIGFjdGlvbjogJ2NvbnRpbnVlJywKICAgICAgfQogICAgfTsKCiAgICAvLyBVc2UgYSBjaHVua2VkIHNlbmRpbmcgdG8gYXZvaWQgbWVzc2FnZSBzaXplIGxpbWl0cy4gU2VlIGIvNjIxMTU2NjAuCiAgICBsZXQgcG9zaXRpb24gPSAwOwogICAgd2hpbGUgKHBvc2l0aW9uIDwgZmlsZURhdGEuYnl0ZUxlbmd0aCkgewogICAgICBjb25zdCBsZW5ndGggPSBNYXRoLm1pbihmaWxlRGF0YS5ieXRlTGVuZ3RoIC0gcG9zaXRpb24sIE1BWF9QQVlMT0FEX1NJWkUpOwogICAgICBjb25zdCBjaHVuayA9IG5ldyBVaW50OEFycmF5KGZpbGVEYXRhLCBwb3NpdGlvbiwgbGVuZ3RoKTsKICAgICAgcG9zaXRpb24gKz0gbGVuZ3RoOwoKICAgICAgY29uc3QgYmFzZTY0ID0gYnRvYShTdHJpbmcuZnJvbUNoYXJDb2RlLmFwcGx5KG51bGwsIGNodW5rKSk7CiAgICAgIHlpZWxkIHsKICAgICAgICByZXNwb25zZTogewogICAgICAgICAgYWN0aW9uOiAnYXBwZW5kJywKICAgICAgICAgIGZpbGU6IGZpbGUubmFtZSwKICAgICAgICAgIGRhdGE6IGJhc2U2NCwKICAgICAgICB9LAogICAgICB9OwogICAgICBwZXJjZW50LnRleHRDb250ZW50ID0KICAgICAgICAgIGAke01hdGgucm91bmQoKHBvc2l0aW9uIC8gZmlsZURhdGEuYnl0ZUxlbmd0aCkgKiAxMDApfSUgZG9uZWA7CiAgICB9CiAgfQoKICAvLyBBbGwgZG9uZS4KICB5aWVsZCB7CiAgICByZXNwb25zZTogewogICAgICBhY3Rpb246ICdjb21wbGV0ZScsCiAgICB9CiAgfTsKfQoKc2NvcGUuZ29vZ2xlID0gc2NvcGUuZ29vZ2xlIHx8IHt9OwpzY29wZS5nb29nbGUuY29sYWIgPSBzY29wZS5nb29nbGUuY29sYWIgfHwge307CnNjb3BlLmdvb2dsZS5jb2xhYi5fZmlsZXMgPSB7CiAgX3VwbG9hZEZpbGVzLAogIF91cGxvYWRGaWxlc0NvbnRpbnVlLAp9Owp9KShzZWxmKTsK",
              "ok": true,
              "headers": [
                [
                  "content-type",
                  "application/javascript"
                ]
              ],
              "status": 200,
              "status_text": ""
            }
          },
          "base_uri": "https://localhost:8080/",
          "height": 72
        },
        "outputId": "0507b9e6-1c88-477b-f3ea-a1ae1a2c0988"
      },
      "source": [
        "from google.colab import files\n",
        "data_to_load = files.upload()"
      ],
      "execution_count": null,
      "outputs": [
        {
          "output_type": "display_data",
          "data": {
            "text/html": [
              "\n",
              "     <input type=\"file\" id=\"files-2aa1fdaf-69fc-4eaf-aee2-dabb69763cfd\" name=\"files[]\" multiple disabled\n",
              "        style=\"border:none\" />\n",
              "     <output id=\"result-2aa1fdaf-69fc-4eaf-aee2-dabb69763cfd\">\n",
              "      Upload widget is only available when the cell has been executed in the\n",
              "      current browser session. Please rerun this cell to enable.\n",
              "      </output>\n",
              "      <script src=\"/nbextensions/google.colab/files.js\"></script> "
            ],
            "text/plain": [
              "<IPython.core.display.HTML object>"
            ]
          },
          "metadata": {
            "tags": []
          }
        },
        {
          "output_type": "stream",
          "text": [
            "Saving purchases.txt to purchases.txt\n"
          ],
          "name": "stdout"
        }
      ]
    },
    {
      "cell_type": "code",
      "metadata": {
        "id": "mmO8Qby2DH7_",
        "colab_type": "code",
        "colab": {}
      },
      "source": [
        "import numpy as np"
      ],
      "execution_count": null,
      "outputs": []
    },
    {
      "cell_type": "code",
      "metadata": {
        "id": "OA5Yk52N65HH",
        "colab_type": "code",
        "colab": {}
      },
      "source": [
        "import pandas as pd\n",
        "df = pd.read_csv('purchases.txt', header= None, sep = '\\t')"
      ],
      "execution_count": null,
      "outputs": []
    },
    {
      "cell_type": "code",
      "metadata": {
        "id": "qGfpJiH39kKa",
        "colab_type": "code",
        "colab": {
          "base_uri": "https://localhost:8080/",
          "height": 110
        },
        "outputId": "c8485015-5506-4c38-9f34-85e9ea7cd997"
      },
      "source": [
        "df.head(2)"
      ],
      "execution_count": null,
      "outputs": [
        {
          "output_type": "execute_result",
          "data": {
            "text/html": [
              "<div>\n",
              "<style scoped>\n",
              "    .dataframe tbody tr th:only-of-type {\n",
              "        vertical-align: middle;\n",
              "    }\n",
              "\n",
              "    .dataframe tbody tr th {\n",
              "        vertical-align: top;\n",
              "    }\n",
              "\n",
              "    .dataframe thead th {\n",
              "        text-align: right;\n",
              "    }\n",
              "</style>\n",
              "<table border=\"1\" class=\"dataframe\">\n",
              "  <thead>\n",
              "    <tr style=\"text-align: right;\">\n",
              "      <th></th>\n",
              "      <th>0</th>\n",
              "      <th>1</th>\n",
              "      <th>2</th>\n",
              "    </tr>\n",
              "  </thead>\n",
              "  <tbody>\n",
              "    <tr>\n",
              "      <th>0</th>\n",
              "      <td>760</td>\n",
              "      <td>25.0</td>\n",
              "      <td>2009-11-06</td>\n",
              "    </tr>\n",
              "    <tr>\n",
              "      <th>1</th>\n",
              "      <td>860</td>\n",
              "      <td>50.0</td>\n",
              "      <td>2012-09-28</td>\n",
              "    </tr>\n",
              "  </tbody>\n",
              "</table>\n",
              "</div>"
            ],
            "text/plain": [
              "     0     1           2\n",
              "0  760  25.0  2009-11-06\n",
              "1  860  50.0  2012-09-28"
            ]
          },
          "metadata": {
            "tags": []
          },
          "execution_count": 5
        }
      ]
    },
    {
      "cell_type": "code",
      "metadata": {
        "id": "S_bKERSM90y_",
        "colab_type": "code",
        "colab": {}
      },
      "source": [
        "df=df.rename(columns={0: 'customer_id', 1: 'purchase_amount',2:\"date_of_purchase\"})"
      ],
      "execution_count": null,
      "outputs": []
    },
    {
      "cell_type": "code",
      "metadata": {
        "id": "3MKYS2PM_bIG",
        "colab_type": "code",
        "colab": {
          "base_uri": "https://localhost:8080/",
          "height": 110
        },
        "outputId": "57ce2165-8114-46ea-c6a9-0a8a586aac83"
      },
      "source": [
        "df.head(2)"
      ],
      "execution_count": null,
      "outputs": [
        {
          "output_type": "execute_result",
          "data": {
            "text/html": [
              "<div>\n",
              "<style scoped>\n",
              "    .dataframe tbody tr th:only-of-type {\n",
              "        vertical-align: middle;\n",
              "    }\n",
              "\n",
              "    .dataframe tbody tr th {\n",
              "        vertical-align: top;\n",
              "    }\n",
              "\n",
              "    .dataframe thead th {\n",
              "        text-align: right;\n",
              "    }\n",
              "</style>\n",
              "<table border=\"1\" class=\"dataframe\">\n",
              "  <thead>\n",
              "    <tr style=\"text-align: right;\">\n",
              "      <th></th>\n",
              "      <th>customer_id</th>\n",
              "      <th>purchase_amount</th>\n",
              "      <th>date_of_purchase</th>\n",
              "    </tr>\n",
              "  </thead>\n",
              "  <tbody>\n",
              "    <tr>\n",
              "      <th>0</th>\n",
              "      <td>760</td>\n",
              "      <td>25.0</td>\n",
              "      <td>2009-11-06</td>\n",
              "    </tr>\n",
              "    <tr>\n",
              "      <th>1</th>\n",
              "      <td>860</td>\n",
              "      <td>50.0</td>\n",
              "      <td>2012-09-28</td>\n",
              "    </tr>\n",
              "  </tbody>\n",
              "</table>\n",
              "</div>"
            ],
            "text/plain": [
              "   customer_id  purchase_amount date_of_purchase\n",
              "0          760             25.0       2009-11-06\n",
              "1          860             50.0       2012-09-28"
            ]
          },
          "metadata": {
            "tags": []
          },
          "execution_count": 7
        }
      ]
    },
    {
      "cell_type": "code",
      "metadata": {
        "id": "0i-L7lmE1yM5",
        "colab_type": "code",
        "colab": {
          "base_uri": "https://localhost:8080/",
          "height": 34
        },
        "outputId": "a17f02f3-43bd-4392-b232-53f96fc48914"
      },
      "source": [
        "sum(df[\"purchase_amount\"])"
      ],
      "execution_count": null,
      "outputs": [
        {
          "output_type": "execute_result",
          "data": {
            "text/plain": [
              "3194344.9000000013"
            ]
          },
          "metadata": {
            "tags": []
          },
          "execution_count": 8
        }
      ]
    },
    {
      "cell_type": "code",
      "metadata": {
        "id": "zRYnD3gpoAhA",
        "colab_type": "code",
        "colab": {
          "base_uri": "https://localhost:8080/",
          "height": 662
        },
        "outputId": "76262fb8-c7c7-4436-967c-02aa0c69545a"
      },
      "source": [
        "df.sort_values(by=\"purchase_amount\",ascending = False).head(20)"
      ],
      "execution_count": null,
      "outputs": [
        {
          "output_type": "execute_result",
          "data": {
            "text/html": [
              "<div>\n",
              "<style scoped>\n",
              "    .dataframe tbody tr th:only-of-type {\n",
              "        vertical-align: middle;\n",
              "    }\n",
              "\n",
              "    .dataframe tbody tr th {\n",
              "        vertical-align: top;\n",
              "    }\n",
              "\n",
              "    .dataframe thead th {\n",
              "        text-align: right;\n",
              "    }\n",
              "</style>\n",
              "<table border=\"1\" class=\"dataframe\">\n",
              "  <thead>\n",
              "    <tr style=\"text-align: right;\">\n",
              "      <th></th>\n",
              "      <th>customer_id</th>\n",
              "      <th>purchase_amount</th>\n",
              "      <th>date_of_purchase</th>\n",
              "    </tr>\n",
              "  </thead>\n",
              "  <tbody>\n",
              "    <tr>\n",
              "      <th>1208</th>\n",
              "      <td>246480</td>\n",
              "      <td>4500.0</td>\n",
              "      <td>2015-05-19</td>\n",
              "    </tr>\n",
              "    <tr>\n",
              "      <th>15348</th>\n",
              "      <td>222740</td>\n",
              "      <td>4500.0</td>\n",
              "      <td>2015-12-31</td>\n",
              "    </tr>\n",
              "    <tr>\n",
              "      <th>21719</th>\n",
              "      <td>222740</td>\n",
              "      <td>4500.0</td>\n",
              "      <td>2014-12-31</td>\n",
              "    </tr>\n",
              "    <tr>\n",
              "      <th>3874</th>\n",
              "      <td>141340</td>\n",
              "      <td>4419.0</td>\n",
              "      <td>2014-05-21</td>\n",
              "    </tr>\n",
              "    <tr>\n",
              "      <th>51228</th>\n",
              "      <td>181800</td>\n",
              "      <td>4000.0</td>\n",
              "      <td>2013-06-12</td>\n",
              "    </tr>\n",
              "    <tr>\n",
              "      <th>37798</th>\n",
              "      <td>98790</td>\n",
              "      <td>4000.0</td>\n",
              "      <td>2014-05-27</td>\n",
              "    </tr>\n",
              "    <tr>\n",
              "      <th>2757</th>\n",
              "      <td>98550</td>\n",
              "      <td>4000.0</td>\n",
              "      <td>2014-11-21</td>\n",
              "    </tr>\n",
              "    <tr>\n",
              "      <th>30473</th>\n",
              "      <td>98790</td>\n",
              "      <td>4000.0</td>\n",
              "      <td>2013-05-09</td>\n",
              "    </tr>\n",
              "    <tr>\n",
              "      <th>45120</th>\n",
              "      <td>126120</td>\n",
              "      <td>4000.0</td>\n",
              "      <td>2015-09-04</td>\n",
              "    </tr>\n",
              "    <tr>\n",
              "      <th>39097</th>\n",
              "      <td>187390</td>\n",
              "      <td>4000.0</td>\n",
              "      <td>2015-06-17</td>\n",
              "    </tr>\n",
              "    <tr>\n",
              "      <th>29727</th>\n",
              "      <td>187390</td>\n",
              "      <td>4000.0</td>\n",
              "      <td>2014-05-20</td>\n",
              "    </tr>\n",
              "    <tr>\n",
              "      <th>41480</th>\n",
              "      <td>39920</td>\n",
              "      <td>4000.0</td>\n",
              "      <td>2013-12-26</td>\n",
              "    </tr>\n",
              "    <tr>\n",
              "      <th>21310</th>\n",
              "      <td>216730</td>\n",
              "      <td>4000.0</td>\n",
              "      <td>2014-06-05</td>\n",
              "    </tr>\n",
              "    <tr>\n",
              "      <th>40812</th>\n",
              "      <td>247870</td>\n",
              "      <td>4000.0</td>\n",
              "      <td>2015-07-01</td>\n",
              "    </tr>\n",
              "    <tr>\n",
              "      <th>8642</th>\n",
              "      <td>112000</td>\n",
              "      <td>4000.0</td>\n",
              "      <td>2013-05-09</td>\n",
              "    </tr>\n",
              "    <tr>\n",
              "      <th>22028</th>\n",
              "      <td>98790</td>\n",
              "      <td>4000.0</td>\n",
              "      <td>2012-09-14</td>\n",
              "    </tr>\n",
              "    <tr>\n",
              "      <th>40808</th>\n",
              "      <td>193210</td>\n",
              "      <td>3627.1</td>\n",
              "      <td>2013-01-25</td>\n",
              "    </tr>\n",
              "    <tr>\n",
              "      <th>12170</th>\n",
              "      <td>147510</td>\n",
              "      <td>3500.0</td>\n",
              "      <td>2011-05-01</td>\n",
              "    </tr>\n",
              "    <tr>\n",
              "      <th>376</th>\n",
              "      <td>76440</td>\n",
              "      <td>3500.0</td>\n",
              "      <td>2010-05-26</td>\n",
              "    </tr>\n",
              "    <tr>\n",
              "      <th>2350</th>\n",
              "      <td>13610</td>\n",
              "      <td>3100.0</td>\n",
              "      <td>2012-06-03</td>\n",
              "    </tr>\n",
              "  </tbody>\n",
              "</table>\n",
              "</div>"
            ],
            "text/plain": [
              "       customer_id  purchase_amount date_of_purchase\n",
              "1208        246480           4500.0       2015-05-19\n",
              "15348       222740           4500.0       2015-12-31\n",
              "21719       222740           4500.0       2014-12-31\n",
              "3874        141340           4419.0       2014-05-21\n",
              "51228       181800           4000.0       2013-06-12\n",
              "37798        98790           4000.0       2014-05-27\n",
              "2757         98550           4000.0       2014-11-21\n",
              "30473        98790           4000.0       2013-05-09\n",
              "45120       126120           4000.0       2015-09-04\n",
              "39097       187390           4000.0       2015-06-17\n",
              "29727       187390           4000.0       2014-05-20\n",
              "41480        39920           4000.0       2013-12-26\n",
              "21310       216730           4000.0       2014-06-05\n",
              "40812       247870           4000.0       2015-07-01\n",
              "8642        112000           4000.0       2013-05-09\n",
              "22028        98790           4000.0       2012-09-14\n",
              "40808       193210           3627.1       2013-01-25\n",
              "12170       147510           3500.0       2011-05-01\n",
              "376          76440           3500.0       2010-05-26\n",
              "2350         13610           3100.0       2012-06-03"
            ]
          },
          "metadata": {
            "tags": []
          },
          "execution_count": 7
        }
      ]
    },
    {
      "cell_type": "code",
      "metadata": {
        "id": "FewjzcgkohKE",
        "colab_type": "code",
        "colab": {
          "base_uri": "https://localhost:8080/",
          "height": 662
        },
        "outputId": "dcfb1e19-c12a-4204-b227-20d278f31206"
      },
      "source": [
        "df.sort_values(by=\"purchase_amount\",ascending = False).tail(20)"
      ],
      "execution_count": null,
      "outputs": [
        {
          "output_type": "execute_result",
          "data": {
            "text/html": [
              "<div>\n",
              "<style scoped>\n",
              "    .dataframe tbody tr th:only-of-type {\n",
              "        vertical-align: middle;\n",
              "    }\n",
              "\n",
              "    .dataframe tbody tr th {\n",
              "        vertical-align: top;\n",
              "    }\n",
              "\n",
              "    .dataframe thead th {\n",
              "        text-align: right;\n",
              "    }\n",
              "</style>\n",
              "<table border=\"1\" class=\"dataframe\">\n",
              "  <thead>\n",
              "    <tr style=\"text-align: right;\">\n",
              "      <th></th>\n",
              "      <th>customer_id</th>\n",
              "      <th>purchase_amount</th>\n",
              "      <th>date_of_purchase</th>\n",
              "    </tr>\n",
              "  </thead>\n",
              "  <tbody>\n",
              "    <tr>\n",
              "      <th>5325</th>\n",
              "      <td>231330</td>\n",
              "      <td>5.0</td>\n",
              "      <td>2014-11-25</td>\n",
              "    </tr>\n",
              "    <tr>\n",
              "      <th>32386</th>\n",
              "      <td>59040</td>\n",
              "      <td>5.0</td>\n",
              "      <td>2006-12-31</td>\n",
              "    </tr>\n",
              "    <tr>\n",
              "      <th>32271</th>\n",
              "      <td>203490</td>\n",
              "      <td>5.0</td>\n",
              "      <td>2013-10-02</td>\n",
              "    </tr>\n",
              "    <tr>\n",
              "      <th>32116</th>\n",
              "      <td>197650</td>\n",
              "      <td>5.0</td>\n",
              "      <td>2013-05-15</td>\n",
              "    </tr>\n",
              "    <tr>\n",
              "      <th>5940</th>\n",
              "      <td>54090</td>\n",
              "      <td>5.0</td>\n",
              "      <td>2006-12-05</td>\n",
              "    </tr>\n",
              "    <tr>\n",
              "      <th>21152</th>\n",
              "      <td>15370</td>\n",
              "      <td>5.0</td>\n",
              "      <td>2007-07-20</td>\n",
              "    </tr>\n",
              "    <tr>\n",
              "      <th>6143</th>\n",
              "      <td>254010</td>\n",
              "      <td>5.0</td>\n",
              "      <td>2015-10-30</td>\n",
              "    </tr>\n",
              "    <tr>\n",
              "      <th>43987</th>\n",
              "      <td>119430</td>\n",
              "      <td>5.0</td>\n",
              "      <td>2013-02-04</td>\n",
              "    </tr>\n",
              "    <tr>\n",
              "      <th>7376</th>\n",
              "      <td>179570</td>\n",
              "      <td>5.0</td>\n",
              "      <td>2012-08-23</td>\n",
              "    </tr>\n",
              "    <tr>\n",
              "      <th>6456</th>\n",
              "      <td>177870</td>\n",
              "      <td>5.0</td>\n",
              "      <td>2012-07-19</td>\n",
              "    </tr>\n",
              "    <tr>\n",
              "      <th>49081</th>\n",
              "      <td>220910</td>\n",
              "      <td>5.0</td>\n",
              "      <td>2015-03-17</td>\n",
              "    </tr>\n",
              "    <tr>\n",
              "      <th>31723</th>\n",
              "      <td>186060</td>\n",
              "      <td>5.0</td>\n",
              "      <td>2012-12-01</td>\n",
              "    </tr>\n",
              "    <tr>\n",
              "      <th>6520</th>\n",
              "      <td>93530</td>\n",
              "      <td>5.0</td>\n",
              "      <td>2008-02-13</td>\n",
              "    </tr>\n",
              "    <tr>\n",
              "      <th>43994</th>\n",
              "      <td>9610</td>\n",
              "      <td>5.0</td>\n",
              "      <td>2006-11-08</td>\n",
              "    </tr>\n",
              "    <tr>\n",
              "      <th>48993</th>\n",
              "      <td>93440</td>\n",
              "      <td>5.0</td>\n",
              "      <td>2008-02-07</td>\n",
              "    </tr>\n",
              "    <tr>\n",
              "      <th>6788</th>\n",
              "      <td>223610</td>\n",
              "      <td>5.0</td>\n",
              "      <td>2014-06-20</td>\n",
              "    </tr>\n",
              "    <tr>\n",
              "      <th>6801</th>\n",
              "      <td>192530</td>\n",
              "      <td>5.0</td>\n",
              "      <td>2012-12-31</td>\n",
              "    </tr>\n",
              "    <tr>\n",
              "      <th>31411</th>\n",
              "      <td>119430</td>\n",
              "      <td>5.0</td>\n",
              "      <td>2014-01-04</td>\n",
              "    </tr>\n",
              "    <tr>\n",
              "      <th>48858</th>\n",
              "      <td>110030</td>\n",
              "      <td>5.0</td>\n",
              "      <td>2010-04-16</td>\n",
              "    </tr>\n",
              "    <tr>\n",
              "      <th>9270</th>\n",
              "      <td>227090</td>\n",
              "      <td>5.0</td>\n",
              "      <td>2014-10-24</td>\n",
              "    </tr>\n",
              "  </tbody>\n",
              "</table>\n",
              "</div>"
            ],
            "text/plain": [
              "       customer_id  purchase_amount date_of_purchase\n",
              "5325        231330              5.0       2014-11-25\n",
              "32386        59040              5.0       2006-12-31\n",
              "32271       203490              5.0       2013-10-02\n",
              "32116       197650              5.0       2013-05-15\n",
              "5940         54090              5.0       2006-12-05\n",
              "21152        15370              5.0       2007-07-20\n",
              "6143        254010              5.0       2015-10-30\n",
              "43987       119430              5.0       2013-02-04\n",
              "7376        179570              5.0       2012-08-23\n",
              "6456        177870              5.0       2012-07-19\n",
              "49081       220910              5.0       2015-03-17\n",
              "31723       186060              5.0       2012-12-01\n",
              "6520         93530              5.0       2008-02-13\n",
              "43994         9610              5.0       2006-11-08\n",
              "48993        93440              5.0       2008-02-07\n",
              "6788        223610              5.0       2014-06-20\n",
              "6801        192530              5.0       2012-12-31\n",
              "31411       119430              5.0       2014-01-04\n",
              "48858       110030              5.0       2010-04-16\n",
              "9270        227090              5.0       2014-10-24"
            ]
          },
          "metadata": {
            "tags": []
          },
          "execution_count": 8
        }
      ]
    },
    {
      "cell_type": "code",
      "metadata": {
        "id": "AUtQCbUp_dJs",
        "colab_type": "code",
        "colab": {}
      },
      "source": [
        "df['date_of_purchase'] =  pd.to_datetime(df['date_of_purchase'], format='%Y-%m-%d',errors='coerce')"
      ],
      "execution_count": null,
      "outputs": []
    },
    {
      "cell_type": "code",
      "metadata": {
        "id": "uHHvTKCwALYI",
        "colab_type": "code",
        "colab": {}
      },
      "source": [
        "df['Day'] = pd.to_datetime(df.date_of_purchase, format='%d/%m/%Y').dt.day\n",
        "df['Month'] = pd.to_datetime(df.date_of_purchase, format='%d/%m/%Y').dt.month\n",
        "df['Year'] = pd.to_datetime(df.date_of_purchase, format='%d/%m/%Y').dt.year\n",
        "df['weekday']= pd.to_datetime(df.date_of_purchase, format='%d/%m/%Y').dt.weekday"
      ],
      "execution_count": null,
      "outputs": []
    },
    {
      "cell_type": "code",
      "metadata": {
        "id": "oEfBgEA-BloO",
        "colab_type": "code",
        "colab": {
          "base_uri": "https://localhost:8080/",
          "height": 34
        },
        "outputId": "cc9797db-64d3-4eac-fdb5-29f7782af7eb"
      },
      "source": [
        "df[\"Year\"].unique()"
      ],
      "execution_count": null,
      "outputs": [
        {
          "output_type": "execute_result",
          "data": {
            "text/plain": [
              "array([2009, 2012, 2005, 2013, 2006, 2007, 2010, 2011, 2014, 2008, 2015])"
            ]
          },
          "metadata": {
            "tags": []
          },
          "execution_count": 11
        }
      ]
    },
    {
      "cell_type": "code",
      "metadata": {
        "id": "eqJPW3AMCGbi",
        "colab_type": "code",
        "colab": {
          "base_uri": "https://localhost:8080/",
          "height": 260
        },
        "outputId": "903ac900-7769-4909-85ff-76289893b465"
      },
      "source": [
        "df.info()"
      ],
      "execution_count": null,
      "outputs": [
        {
          "output_type": "stream",
          "text": [
            "<class 'pandas.core.frame.DataFrame'>\n",
            "RangeIndex: 51243 entries, 0 to 51242\n",
            "Data columns (total 7 columns):\n",
            " #   Column            Non-Null Count  Dtype         \n",
            "---  ------            --------------  -----         \n",
            " 0   customer_id       51243 non-null  int64         \n",
            " 1   purchase_amount   51243 non-null  float64       \n",
            " 2   date_of_purchase  51243 non-null  datetime64[ns]\n",
            " 3   Day               51243 non-null  int64         \n",
            " 4   Month             51243 non-null  int64         \n",
            " 5   Year              51243 non-null  int64         \n",
            " 6   weekday           51243 non-null  int64         \n",
            "dtypes: datetime64[ns](1), float64(1), int64(5)\n",
            "memory usage: 2.7 MB\n"
          ],
          "name": "stdout"
        }
      ]
    },
    {
      "cell_type": "code",
      "metadata": {
        "id": "8WX9xmrxDBbq",
        "colab_type": "code",
        "colab": {}
      },
      "source": [
        "def time_analysis(df):\n",
        "    return pd.DataFrame({\"Average\":np.mean(df.purchase_amount),\"Count\":np.size(df.purchase_amount),\"Sum\":sum(df.purchase_amount)},index=[\"Time\"] )"
      ],
      "execution_count": null,
      "outputs": []
    },
    {
      "cell_type": "code",
      "metadata": {
        "id": "n6u9zHiPCMqS",
        "colab_type": "code",
        "colab": {}
      },
      "source": [
        "df_yearly=df.groupby('Year').apply(time_analysis).reset_index()"
      ],
      "execution_count": null,
      "outputs": []
    },
    {
      "cell_type": "code",
      "metadata": {
        "id": "4bXawHLyDFBv",
        "colab_type": "code",
        "colab": {
          "base_uri": "https://localhost:8080/",
          "height": 386
        },
        "outputId": "e9d3d852-a701-415e-d3c9-bda3359113b7"
      },
      "source": [
        "df_yearly"
      ],
      "execution_count": null,
      "outputs": [
        {
          "output_type": "execute_result",
          "data": {
            "text/html": [
              "<div>\n",
              "<style scoped>\n",
              "    .dataframe tbody tr th:only-of-type {\n",
              "        vertical-align: middle;\n",
              "    }\n",
              "\n",
              "    .dataframe tbody tr th {\n",
              "        vertical-align: top;\n",
              "    }\n",
              "\n",
              "    .dataframe thead th {\n",
              "        text-align: right;\n",
              "    }\n",
              "</style>\n",
              "<table border=\"1\" class=\"dataframe\">\n",
              "  <thead>\n",
              "    <tr style=\"text-align: right;\">\n",
              "      <th></th>\n",
              "      <th>Year</th>\n",
              "      <th>level_1</th>\n",
              "      <th>Average</th>\n",
              "      <th>Count</th>\n",
              "      <th>Sum</th>\n",
              "    </tr>\n",
              "  </thead>\n",
              "  <tbody>\n",
              "    <tr>\n",
              "      <th>0</th>\n",
              "      <td>2005</td>\n",
              "      <td>Time</td>\n",
              "      <td>55.826122</td>\n",
              "      <td>1470</td>\n",
              "      <td>82064.40</td>\n",
              "    </tr>\n",
              "    <tr>\n",
              "      <th>1</th>\n",
              "      <td>2006</td>\n",
              "      <td>Time</td>\n",
              "      <td>52.250454</td>\n",
              "      <td>2182</td>\n",
              "      <td>114010.49</td>\n",
              "    </tr>\n",
              "    <tr>\n",
              "      <th>2</th>\n",
              "      <td>2007</td>\n",
              "      <td>Time</td>\n",
              "      <td>49.264014</td>\n",
              "      <td>4674</td>\n",
              "      <td>230260.00</td>\n",
              "    </tr>\n",
              "    <tr>\n",
              "      <th>3</th>\n",
              "      <td>2008</td>\n",
              "      <td>Time</td>\n",
              "      <td>53.071780</td>\n",
              "      <td>4331</td>\n",
              "      <td>229853.88</td>\n",
              "    </tr>\n",
              "    <tr>\n",
              "      <th>4</th>\n",
              "      <td>2009</td>\n",
              "      <td>Time</td>\n",
              "      <td>50.745253</td>\n",
              "      <td>5054</td>\n",
              "      <td>256466.51</td>\n",
              "    </tr>\n",
              "    <tr>\n",
              "      <th>5</th>\n",
              "      <td>2010</td>\n",
              "      <td>Time</td>\n",
              "      <td>58.740012</td>\n",
              "      <td>4939</td>\n",
              "      <td>290116.92</td>\n",
              "    </tr>\n",
              "    <tr>\n",
              "      <th>6</th>\n",
              "      <td>2011</td>\n",
              "      <td>Time</td>\n",
              "      <td>63.519300</td>\n",
              "      <td>4785</td>\n",
              "      <td>303939.85</td>\n",
              "    </tr>\n",
              "    <tr>\n",
              "      <th>7</th>\n",
              "      <td>2012</td>\n",
              "      <td>Time</td>\n",
              "      <td>62.913312</td>\n",
              "      <td>5960</td>\n",
              "      <td>374963.34</td>\n",
              "    </tr>\n",
              "    <tr>\n",
              "      <th>8</th>\n",
              "      <td>2013</td>\n",
              "      <td>Time</td>\n",
              "      <td>67.931357</td>\n",
              "      <td>5912</td>\n",
              "      <td>401610.18</td>\n",
              "    </tr>\n",
              "    <tr>\n",
              "      <th>9</th>\n",
              "      <td>2014</td>\n",
              "      <td>Time</td>\n",
              "      <td>75.390347</td>\n",
              "      <td>5739</td>\n",
              "      <td>432665.20</td>\n",
              "    </tr>\n",
              "    <tr>\n",
              "      <th>10</th>\n",
              "      <td>2015</td>\n",
              "      <td>Time</td>\n",
              "      <td>77.197697</td>\n",
              "      <td>6197</td>\n",
              "      <td>478394.13</td>\n",
              "    </tr>\n",
              "  </tbody>\n",
              "</table>\n",
              "</div>"
            ],
            "text/plain": [
              "    Year level_1    Average  Count        Sum\n",
              "0   2005    Time  55.826122   1470   82064.40\n",
              "1   2006    Time  52.250454   2182  114010.49\n",
              "2   2007    Time  49.264014   4674  230260.00\n",
              "3   2008    Time  53.071780   4331  229853.88\n",
              "4   2009    Time  50.745253   5054  256466.51\n",
              "5   2010    Time  58.740012   4939  290116.92\n",
              "6   2011    Time  63.519300   4785  303939.85\n",
              "7   2012    Time  62.913312   5960  374963.34\n",
              "8   2013    Time  67.931357   5912  401610.18\n",
              "9   2014    Time  75.390347   5739  432665.20\n",
              "10  2015    Time  77.197697   6197  478394.13"
            ]
          },
          "metadata": {
            "tags": []
          },
          "execution_count": 15
        }
      ]
    },
    {
      "cell_type": "code",
      "metadata": {
        "id": "V9Xkjjt7EenR",
        "colab_type": "code",
        "colab": {
          "base_uri": "https://localhost:8080/",
          "height": 52
        },
        "outputId": "add7d1c4-5b0d-4682-f55b-8cca4789bfbf"
      },
      "source": [
        "import seaborn as sns"
      ],
      "execution_count": null,
      "outputs": [
        {
          "output_type": "stream",
          "text": [
            "/usr/local/lib/python3.6/dist-packages/statsmodels/tools/_testing.py:19: FutureWarning: pandas.util.testing is deprecated. Use the functions in the public API at pandas.testing instead.\n",
            "  import pandas.util.testing as tm\n"
          ],
          "name": "stderr"
        }
      ]
    },
    {
      "cell_type": "code",
      "metadata": {
        "id": "C6nS3MDTDyoY",
        "colab_type": "code",
        "colab": {
          "base_uri": "https://localhost:8080/",
          "height": 658
        },
        "outputId": "66425009-9438-4ba1-b216-7267c7aabe59"
      },
      "source": [
        "sns.catplot(x=\"Year\", y=\"Average\", kind=\"bar\", data=df_yearly,color=\"c\",palette=\"dark\",height=3, aspect=1.5)\n",
        "sns.catplot(x=\"Year\", y=\"Count\", kind=\"bar\", data=df_yearly,color=\"g\",palette=\"dark\",height=3, aspect=1.5)\n",
        "sns.catplot(x=\"Year\", y=\"Sum\", kind=\"bar\", data=df_yearly,color=\"m\",palette=\"dark\",height=3, aspect=1.5)"
      ],
      "execution_count": null,
      "outputs": [
        {
          "output_type": "execute_result",
          "data": {
            "text/plain": [
              "<seaborn.axisgrid.FacetGrid at 0x7f5a369b1278>"
            ]
          },
          "metadata": {
            "tags": []
          },
          "execution_count": 17
        },
        {
          "output_type": "display_data",
          "data": {
            "image/png": "[encoded data removed]",
            "text/plain": [
              "<Figure size 324x216 with 1 Axes>"
            ]
          },
          "metadata": {
            "tags": [],
            "needs_background": "light"
          }
        },
        {
          "output_type": "display_data",
          "data": {
            "image/png": "[encoded data removed]",
            "text/plain": [
              "<Figure size 324x216 with 1 Axes>"
            ]
          },
          "metadata": {
            "tags": [],
            "needs_background": "light"
          }
        },
        {
          "output_type": "display_data",
          "data": {
            "image/png": "[encoded data removed]",
            "text/plain": [
              "<Figure size 324x216 with 1 Axes>"
            ]
          },
          "metadata": {
            "tags": [],
            "needs_background": "light"
          }
        }
      ]
    },
    {
      "cell_type": "code",
      "metadata": {
        "id": "UnndDANmEdW5",
        "colab_type": "code",
        "colab": {
          "base_uri": "https://localhost:8080/",
          "height": 658
        },
        "outputId": "a59e758b-818f-4f0c-e2e1-cad7f88cea6e"
      },
      "source": [
        "df_monthly=df.groupby('Month').apply(time_analysis).reset_index()\n",
        "sns.catplot(x=\"Month\", y=\"Average\", kind=\"bar\", data=df_monthly,color=\"c\",palette=\"dark\",height=3, aspect=1.5)\n",
        "sns.catplot(x=\"Month\", y=\"Count\", kind=\"bar\", data=df_monthly,color=\"g\",palette=\"dark\",height=3, aspect=1.5)\n",
        "sns.catplot(x=\"Month\", y=\"Sum\", kind=\"bar\", data=df_monthly,color=\"m\",palette=\"dark\",height=3, aspect=1.5)"
      ],
      "execution_count": null,
      "outputs": [
        {
          "output_type": "execute_result",
          "data": {
            "text/plain": [
              "<seaborn.axisgrid.FacetGrid at 0x7f5a33f266d8>"
            ]
          },
          "metadata": {
            "tags": []
          },
          "execution_count": 18
        },
        {
          "output_type": "display_data",
          "data": {
            "image/png": "[encoded data removed]",
            "text/plain": [
              "<Figure size 324x216 with 1 Axes>"
            ]
          },
          "metadata": {
            "tags": [],
            "needs_background": "light"
          }
        },
        {
          "output_type": "display_data",
          "data": {
            "image/png": "[encoded data removed]",
            "text/plain": [
              "<Figure size 324x216 with 1 Axes>"
            ]
          },
          "metadata": {
            "tags": [],
            "needs_background": "light"
          }
        },
        {
          "output_type": "display_data",
          "data": {
            "image/png": "[encoded data removed]",
            "text/plain": [
              "<Figure size 324x216 with 1 Axes>"
            ]
          },
          "metadata": {
            "tags": [],
            "needs_background": "light"
          }
        }
      ]
    },
    {
      "cell_type": "code",
      "metadata": {
        "id": "bfxToHhaGl2J",
        "colab_type": "code",
        "colab": {
          "base_uri": "https://localhost:8080/",
          "height": 658
        },
        "outputId": "871bc55b-fec5-45f9-eab4-3346b245b830"
      },
      "source": [
        "df_weekly=df.groupby('weekday').apply(time_analysis).reset_index()\n",
        "sns.catplot(x=\"weekday\", y=\"Average\", kind=\"bar\", data=df_weekly,color=\"c\",palette=\"dark\",height=3, aspect=1.5)\n",
        "sns.catplot(x=\"weekday\", y=\"Count\", kind=\"bar\", data=df_weekly,color=\"g\",palette=\"dark\",height=3, aspect=1.5)\n",
        "sns.catplot(x=\"weekday\", y=\"Sum\", kind=\"bar\", data=df_weekly,color=\"m\",palette=\"dark\",height=3, aspect=1.5)"
      ],
      "execution_count": null,
      "outputs": [
        {
          "output_type": "execute_result",
          "data": {
            "text/plain": [
              "<seaborn.axisgrid.FacetGrid at 0x7f5a338d2978>"
            ]
          },
          "metadata": {
            "tags": []
          },
          "execution_count": 19
        },
        {
          "output_type": "display_data",
          "data": {
            "image/png": "[encoded data removed]",
            "text/plain": [
              "<Figure size 324x216 with 1 Axes>"
            ]
          },
          "metadata": {
            "tags": [],
            "needs_background": "light"
          }
        },
        {
          "output_type": "display_data",
          "data": {
            "image/png": "[encoded data removed]",
            "text/plain": [
              "<Figure size 324x216 with 1 Axes>"
            ]
          },
          "metadata": {
            "tags": [],
            "needs_background": "light"
          }
        },
        {
          "output_type": "display_data",
          "data": {
            "image/png": "[encoded data removed]",
            "text/plain": [
              "<Figure size 324x216 with 1 Axes>"
            ]
          },
          "metadata": {
            "tags": [],
            "needs_background": "light"
          }
        }
      ]
    },
    {
      "cell_type": "code",
      "metadata": {
        "id": "Jf-GrRQZGxJi",
        "colab_type": "code",
        "colab": {
          "base_uri": "https://localhost:8080/",
          "height": 660
        },
        "outputId": "1d23ecc3-829b-4bb5-b9d2-58a2aec9aebd"
      },
      "source": [
        "df_daily=df.groupby('Day').apply(time_analysis).reset_index()\n",
        "sns.catplot(x=\"Day\", y=\"Average\", kind=\"bar\", data=df_daily,color=\"c\",palette=\"dark\",height=3, aspect=3)\n",
        "sns.catplot(x=\"Day\", y=\"Count\", kind=\"bar\", data=df_daily,color=\"g\",palette=\"dark\",height=3, aspect=3)\n",
        "sns.catplot(x=\"Day\", y=\"Sum\", kind=\"bar\", data=df_daily,color=\"m\",palette=\"dark\",height=3, aspect=3)"
      ],
      "execution_count": null,
      "outputs": [
        {
          "output_type": "execute_result",
          "data": {
            "text/plain": [
              "<seaborn.axisgrid.FacetGrid at 0x7f5a33a196a0>"
            ]
          },
          "metadata": {
            "tags": []
          },
          "execution_count": 20
        },
        {
          "output_type": "display_data",
          "data": {
            "image/png": "[encoded data removed]",
            "text/plain": [
              "<Figure size 648x216 with 1 Axes>"
            ]
          },
          "metadata": {
            "tags": [],
            "needs_background": "light"
          }
        },
        {
          "output_type": "display_data",
          "data": {
            "image/png": "[encoded data removed]",
            "text/plain": [
              "<Figure size 648x216 with 1 Axes>"
            ]
          },
          "metadata": {
            "tags": [],
            "needs_background": "light"
          }
        },
        {
          "output_type": "display_data",
          "data": {
            "image/png": "[encoded data removed]",
            "text/plain": [
              "<Figure size 648x216 with 1 Axes>"
            ]
          },
          "metadata": {
            "tags": [],
            "needs_background": "light"
          }
        }
      ]
    },
    {
      "cell_type": "code",
      "metadata": {
        "id": "mONUdhG-H2M8",
        "colab_type": "code",
        "colab": {}
      },
      "source": [
        "from datetime import datetime\n",
        "\n",
        "def days_between(d1, d2):\n",
        "    d1 = datetime.strptime(d1, \"%Y-%m-%d\")\n",
        "    d2 = datetime.strptime(d2, \"%Y-%m-%d\")\n",
        "    return abs((d2 - d1).days)"
      ],
      "execution_count": null,
      "outputs": []
    },
    {
      "cell_type": "code",
      "metadata": {
        "id": "NiFZN6WAKNQI",
        "colab_type": "code",
        "colab": {}
      },
      "source": [
        "df[\"date_of_purchase\"] = df[\"date_of_purchase\"].astype(str)\n",
        "l=[]\n",
        "for i in range(0,len(df[\"date_of_purchase\"])):\n",
        "  l.append(days_between(\"2016-01-01\",df[\"date_of_purchase\"].iloc[i]))\n",
        "df[\"day_since\"]=l"
      ],
      "execution_count": null,
      "outputs": []
    },
    {
      "cell_type": "code",
      "metadata": {
        "id": "koX_vX7fKkze",
        "colab_type": "code",
        "colab": {}
      },
      "source": [
        "def rfm(df):\n",
        "    return pd.DataFrame({\"Recency\":min(df.day_since),\"Frequency\":np.size(df.purchase_amount),\"AvgAmount\":np.mean(df.purchase_amount)},index=[\"RFM\"] )"
      ],
      "execution_count": null,
      "outputs": []
    },
    {
      "cell_type": "code",
      "metadata": {
        "id": "42GSTDDHTuZV",
        "colab_type": "code",
        "colab": {
          "base_uri": "https://localhost:8080/",
          "height": 202
        },
        "outputId": "df792680-7b72-43b5-dc68-5d377559d285"
      },
      "source": [
        "df_rfm=df.groupby('customer_id').apply(rfm).reset_index()\n",
        "df_rfm.head()"
      ],
      "execution_count": null,
      "outputs": [
        {
          "output_type": "execute_result",
          "data": {
            "text/html": [
              "<div>\n",
              "<style scoped>\n",
              "    .dataframe tbody tr th:only-of-type {\n",
              "        vertical-align: middle;\n",
              "    }\n",
              "\n",
              "    .dataframe tbody tr th {\n",
              "        vertical-align: top;\n",
              "    }\n",
              "\n",
              "    .dataframe thead th {\n",
              "        text-align: right;\n",
              "    }\n",
              "</style>\n",
              "<table border=\"1\" class=\"dataframe\">\n",
              "  <thead>\n",
              "    <tr style=\"text-align: right;\">\n",
              "      <th></th>\n",
              "      <th>customer_id</th>\n",
              "      <th>level_1</th>\n",
              "      <th>Recency</th>\n",
              "      <th>Frequency</th>\n",
              "      <th>AvgAmount</th>\n",
              "    </tr>\n",
              "  </thead>\n",
              "  <tbody>\n",
              "    <tr>\n",
              "      <th>0</th>\n",
              "      <td>10</td>\n",
              "      <td>RFM</td>\n",
              "      <td>3829</td>\n",
              "      <td>1</td>\n",
              "      <td>30.000000</td>\n",
              "    </tr>\n",
              "    <tr>\n",
              "      <th>1</th>\n",
              "      <td>80</td>\n",
              "      <td>RFM</td>\n",
              "      <td>343</td>\n",
              "      <td>7</td>\n",
              "      <td>71.428571</td>\n",
              "    </tr>\n",
              "    <tr>\n",
              "      <th>2</th>\n",
              "      <td>90</td>\n",
              "      <td>RFM</td>\n",
              "      <td>758</td>\n",
              "      <td>10</td>\n",
              "      <td>115.800000</td>\n",
              "    </tr>\n",
              "    <tr>\n",
              "      <th>3</th>\n",
              "      <td>120</td>\n",
              "      <td>RFM</td>\n",
              "      <td>1401</td>\n",
              "      <td>1</td>\n",
              "      <td>20.000000</td>\n",
              "    </tr>\n",
              "    <tr>\n",
              "      <th>4</th>\n",
              "      <td>130</td>\n",
              "      <td>RFM</td>\n",
              "      <td>2970</td>\n",
              "      <td>2</td>\n",
              "      <td>50.000000</td>\n",
              "    </tr>\n",
              "  </tbody>\n",
              "</table>\n",
              "</div>"
            ],
            "text/plain": [
              "   customer_id level_1  Recency  Frequency   AvgAmount\n",
              "0           10     RFM     3829          1   30.000000\n",
              "1           80     RFM      343          7   71.428571\n",
              "2           90     RFM      758         10  115.800000\n",
              "3          120     RFM     1401          1   20.000000\n",
              "4          130     RFM     2970          2   50.000000"
            ]
          },
          "metadata": {
            "tags": []
          },
          "execution_count": 24
        }
      ]
    },
    {
      "cell_type": "code",
      "metadata": {
        "id": "sFNIWLqWT6Ya",
        "colab_type": "code",
        "colab": {
          "base_uri": "https://localhost:8080/",
          "height": 294
        },
        "outputId": "6a1ecb33-bb15-4798-9589-5b4c88a3244a"
      },
      "source": [
        "df_rfm.describe()"
      ],
      "execution_count": null,
      "outputs": [
        {
          "output_type": "execute_result",
          "data": {
            "text/html": [
              "<div>\n",
              "<style scoped>\n",
              "    .dataframe tbody tr th:only-of-type {\n",
              "        vertical-align: middle;\n",
              "    }\n",
              "\n",
              "    .dataframe tbody tr th {\n",
              "        vertical-align: top;\n",
              "    }\n",
              "\n",
              "    .dataframe thead th {\n",
              "        text-align: right;\n",
              "    }\n",
              "</style>\n",
              "<table border=\"1\" class=\"dataframe\">\n",
              "  <thead>\n",
              "    <tr style=\"text-align: right;\">\n",
              "      <th></th>\n",
              "      <th>customer_id</th>\n",
              "      <th>Recency</th>\n",
              "      <th>Frequency</th>\n",
              "      <th>AvgAmount</th>\n",
              "    </tr>\n",
              "  </thead>\n",
              "  <tbody>\n",
              "    <tr>\n",
              "      <th>count</th>\n",
              "      <td>18417.000000</td>\n",
              "      <td>18417.000000</td>\n",
              "      <td>18417.000000</td>\n",
              "      <td>18417.000000</td>\n",
              "    </tr>\n",
              "    <tr>\n",
              "      <th>mean</th>\n",
              "      <td>137573.510887</td>\n",
              "      <td>1253.037900</td>\n",
              "      <td>2.782375</td>\n",
              "      <td>57.792985</td>\n",
              "    </tr>\n",
              "    <tr>\n",
              "      <th>std</th>\n",
              "      <td>69504.599881</td>\n",
              "      <td>1081.437868</td>\n",
              "      <td>2.936888</td>\n",
              "      <td>154.360109</td>\n",
              "    </tr>\n",
              "    <tr>\n",
              "      <th>min</th>\n",
              "      <td>10.000000</td>\n",
              "      <td>1.000000</td>\n",
              "      <td>1.000000</td>\n",
              "      <td>5.000000</td>\n",
              "    </tr>\n",
              "    <tr>\n",
              "      <th>25%</th>\n",
              "      <td>81990.000000</td>\n",
              "      <td>244.000000</td>\n",
              "      <td>1.000000</td>\n",
              "      <td>21.666667</td>\n",
              "    </tr>\n",
              "    <tr>\n",
              "      <th>50%</th>\n",
              "      <td>136430.000000</td>\n",
              "      <td>1070.000000</td>\n",
              "      <td>2.000000</td>\n",
              "      <td>30.000000</td>\n",
              "    </tr>\n",
              "    <tr>\n",
              "      <th>75%</th>\n",
              "      <td>195100.000000</td>\n",
              "      <td>2130.000000</td>\n",
              "      <td>3.000000</td>\n",
              "      <td>50.000000</td>\n",
              "    </tr>\n",
              "    <tr>\n",
              "      <th>max</th>\n",
              "      <td>264200.000000</td>\n",
              "      <td>4014.000000</td>\n",
              "      <td>45.000000</td>\n",
              "      <td>4500.000000</td>\n",
              "    </tr>\n",
              "  </tbody>\n",
              "</table>\n",
              "</div>"
            ],
            "text/plain": [
              "         customer_id       Recency     Frequency     AvgAmount\n",
              "count   18417.000000  18417.000000  18417.000000  18417.000000\n",
              "mean   137573.510887   1253.037900      2.782375     57.792985\n",
              "std     69504.599881   1081.437868      2.936888    154.360109\n",
              "min        10.000000      1.000000      1.000000      5.000000\n",
              "25%     81990.000000    244.000000      1.000000     21.666667\n",
              "50%    136430.000000   1070.000000      2.000000     30.000000\n",
              "75%    195100.000000   2130.000000      3.000000     50.000000\n",
              "max    264200.000000   4014.000000     45.000000   4500.000000"
            ]
          },
          "metadata": {
            "tags": []
          },
          "execution_count": 25
        }
      ]
    },
    {
      "cell_type": "code",
      "metadata": {
        "id": "T_55rSqvUOcN",
        "colab_type": "code",
        "colab": {}
      },
      "source": [
        "from matplotlib import pyplot as plt "
      ],
      "execution_count": null,
      "outputs": []
    },
    {
      "cell_type": "code",
      "metadata": {
        "id": "pRVyMy22VPTj",
        "colab_type": "code",
        "colab": {
          "base_uri": "https://localhost:8080/",
          "height": 428
        },
        "outputId": "f4fbb972-dca7-45d6-befb-b30f933965ce"
      },
      "source": [
        "fig, ax = plt.subplots(figsize =(10, 7)) \n",
        "ax.hist(df_rfm[\"Recency\"]) \n",
        "plt.show() "
      ],
      "execution_count": null,
      "outputs": [
        {
          "output_type": "display_data",
          "data": {
            "image/png": "[encoded data removed]",
            "text/plain": [
              "<Figure size 720x504 with 1 Axes>"
            ]
          },
          "metadata": {
            "tags": [],
            "needs_background": "light"
          }
        }
      ]
    },
    {
      "cell_type": "code",
      "metadata": {
        "id": "RaLqwHXlVdcB",
        "colab_type": "code",
        "colab": {
          "base_uri": "https://localhost:8080/",
          "height": 428
        },
        "outputId": "d959e791-125f-46fe-d997-f6d7e0a2fb80"
      },
      "source": [
        "fig, ax = plt.subplots(figsize =(10, 7)) \n",
        "ax.hist(df_rfm[\"Frequency\"]) \n",
        "plt.show() "
      ],
      "execution_count": null,
      "outputs": [
        {
          "output_type": "display_data",
          "data": {
            "image/png": "[encoded data removed]",
            "text/plain": [
              "<Figure size 720x504 with 1 Axes>"
            ]
          },
          "metadata": {
            "tags": [],
            "needs_background": "light"
          }
        }
      ]
    },
    {
      "cell_type": "code",
      "metadata": {
        "id": "kFIgl3rfVk7T",
        "colab_type": "code",
        "colab": {
          "base_uri": "https://localhost:8080/",
          "height": 428
        },
        "outputId": "09da55f2-0c19-405c-ef6b-d8f82d8b27bb"
      },
      "source": [
        "fig, ax = plt.subplots(figsize =(10, 7)) \n",
        "ax.hist(df_rfm[\"AvgAmount\"]) \n",
        "plt.show()"
      ],
      "execution_count": null,
      "outputs": [
        {
          "output_type": "display_data",
          "data": {
            "image/png": "[encoded data removed]",
            "text/plain": [
              "<Figure size 720x504 with 1 Axes>"
            ]
          },
          "metadata": {
            "tags": [],
            "needs_background": "light"
          }
        }
      ]
    },
    {
      "cell_type": "code",
      "metadata": {
        "id": "T8zTwoe4V_G8",
        "colab_type": "code",
        "colab": {}
      },
      "source": [
        "df_new = df_rfm.set_index('customer_id')"
      ],
      "execution_count": null,
      "outputs": []
    },
    {
      "cell_type": "code",
      "metadata": {
        "id": "_9tpzmVIXOu9",
        "colab_type": "code",
        "colab": {
          "base_uri": "https://localhost:8080/",
          "height": 141
        },
        "outputId": "dd7fb436-391c-49ec-c4de-889e05bf46d0"
      },
      "source": [
        "df_new=df_new.drop([\"level_1\"],axis=1)\n",
        "df_new.head(2)"
      ],
      "execution_count": null,
      "outputs": [
        {
          "output_type": "execute_result",
          "data": {
            "text/html": [
              "<div>\n",
              "<style scoped>\n",
              "    .dataframe tbody tr th:only-of-type {\n",
              "        vertical-align: middle;\n",
              "    }\n",
              "\n",
              "    .dataframe tbody tr th {\n",
              "        vertical-align: top;\n",
              "    }\n",
              "\n",
              "    .dataframe thead th {\n",
              "        text-align: right;\n",
              "    }\n",
              "</style>\n",
              "<table border=\"1\" class=\"dataframe\">\n",
              "  <thead>\n",
              "    <tr style=\"text-align: right;\">\n",
              "      <th></th>\n",
              "      <th>Recency</th>\n",
              "      <th>Frequency</th>\n",
              "      <th>AvgAmount</th>\n",
              "    </tr>\n",
              "    <tr>\n",
              "      <th>customer_id</th>\n",
              "      <th></th>\n",
              "      <th></th>\n",
              "      <th></th>\n",
              "    </tr>\n",
              "  </thead>\n",
              "  <tbody>\n",
              "    <tr>\n",
              "      <th>10</th>\n",
              "      <td>3829</td>\n",
              "      <td>1</td>\n",
              "      <td>30.000000</td>\n",
              "    </tr>\n",
              "    <tr>\n",
              "      <th>80</th>\n",
              "      <td>343</td>\n",
              "      <td>7</td>\n",
              "      <td>71.428571</td>\n",
              "    </tr>\n",
              "  </tbody>\n",
              "</table>\n",
              "</div>"
            ],
            "text/plain": [
              "             Recency  Frequency  AvgAmount\n",
              "customer_id                               \n",
              "10              3829          1  30.000000\n",
              "80               343          7  71.428571"
            ]
          },
          "metadata": {
            "tags": []
          },
          "execution_count": 31
        }
      ]
    },
    {
      "cell_type": "code",
      "metadata": {
        "id": "XJc0IgNmYRhS",
        "colab_type": "code",
        "colab": {
          "base_uri": "https://localhost:8080/",
          "height": 190
        },
        "outputId": "edee7b78-6de7-42e5-8083-2ea69037ff92"
      },
      "source": [
        "df_new.info()"
      ],
      "execution_count": null,
      "outputs": [
        {
          "output_type": "stream",
          "text": [
            "<class 'pandas.core.frame.DataFrame'>\n",
            "Int64Index: 18417 entries, 10 to 264200\n",
            "Data columns (total 3 columns):\n",
            " #   Column     Non-Null Count  Dtype  \n",
            "---  ------     --------------  -----  \n",
            " 0   Recency    18417 non-null  int64  \n",
            " 1   Frequency  18417 non-null  int64  \n",
            " 2   AvgAmount  18417 non-null  float64\n",
            "dtypes: float64(1), int64(2)\n",
            "memory usage: 575.5 KB\n"
          ],
          "name": "stdout"
        }
      ]
    },
    {
      "cell_type": "code",
      "metadata": {
        "id": "X0UpKEyNkNZ4",
        "colab_type": "code",
        "colab": {}
      },
      "source": [
        "df_new1=df_new.copy()"
      ],
      "execution_count": null,
      "outputs": []
    },
    {
      "cell_type": "code",
      "metadata": {
        "id": "33_OMz0EXSHi",
        "colab_type": "code",
        "colab": {
          "base_uri": "https://localhost:8080/",
          "height": 104
        },
        "outputId": "aff3047a-c223-45ec-8598-534cafb71dfc"
      },
      "source": [
        "import math\n",
        "for i in range (0, len(df_new[\"AvgAmount\"])):\n",
        "  df_new1[\"AvgAmount\"].iloc[i]= math.log((df_new1[\"AvgAmount\"]).iloc[i])"
      ],
      "execution_count": null,
      "outputs": [
        {
          "output_type": "stream",
          "text": [
            "/usr/local/lib/python3.6/dist-packages/pandas/core/indexing.py:671: SettingWithCopyWarning: \n",
            "A value is trying to be set on a copy of a slice from a DataFrame\n",
            "\n",
            "See the caveats in the documentation: https://pandas.pydata.org/pandas-docs/stable/user_guide/indexing.html#returning-a-view-versus-a-copy\n",
            "  self._setitem_with_indexer(indexer, value)\n"
          ],
          "name": "stderr"
        }
      ]
    },
    {
      "cell_type": "code",
      "metadata": {
        "id": "rvbLSOqOX4DB",
        "colab_type": "code",
        "colab": {
          "base_uri": "https://localhost:8080/",
          "height": 428
        },
        "outputId": "72876f0b-0de8-484e-e610-6df0d9001d52"
      },
      "source": [
        "import matplotlib.pyplot as plt\n",
        "fig, ax = plt.subplots(figsize =(10, 7)) \n",
        "ax.hist(df_new1[\"AvgAmount\"]) \n",
        "plt.show()"
      ],
      "execution_count": null,
      "outputs": [
        {
          "output_type": "display_data",
          "data": {
            "image/png": "[encoded data removed]",
            "text/plain": [
              "<Figure size 720x504 with 1 Axes>"
            ]
          },
          "metadata": {
            "tags": [],
            "needs_background": "light"
          }
        }
      ]
    },
    {
      "cell_type": "code",
      "metadata": {
        "id": "RNdWMXuQbQGl",
        "colab_type": "code",
        "colab": {}
      },
      "source": [
        "df_new_norm = (df_new1 - df_new1.mean())/df_new1.std()"
      ],
      "execution_count": null,
      "outputs": []
    },
    {
      "cell_type": "code",
      "metadata": {
        "id": "rU6Xr0n5oP8y",
        "colab_type": "code",
        "colab": {}
      },
      "source": [
        "from sklearn.cluster import KMeans"
      ],
      "execution_count": null,
      "outputs": []
    },
    {
      "cell_type": "code",
      "metadata": {
        "id": "UOnXT0Rnnvw4",
        "colab_type": "code",
        "colab": {
          "base_uri": "https://localhost:8080/",
          "height": 121
        },
        "outputId": "a7332d37-1081-455a-eb08-bb773b42e1fe"
      },
      "source": [
        "inertia = []\n",
        "for n_clusters in range(1, 7):\n",
        "    kmeans = KMeans(n_clusters=n_clusters, random_state=0).fit(df_new_norm)\n",
        "    inertia.append(kmeans.inertia_ / n_clusters)\n",
        "    print(\"Cluster:\",n_clusters,\"  \",\"Intertia-\",kmeans.inertia_)"
      ],
      "execution_count": null,
      "outputs": [
        {
          "output_type": "stream",
          "text": [
            "Cluster: 1    Intertia- 55247.999999992746\n",
            "Cluster: 2    Intertia- 37652.29832523263\n",
            "Cluster: 3    Intertia- 27340.689391552878\n",
            "Cluster: 4    Intertia- 21058.457380965992\n",
            "Cluster: 5    Intertia- 18548.404179184046\n",
            "Cluster: 6    Intertia- 16448.49158309619\n"
          ],
          "name": "stdout"
        }
      ]
    },
    {
      "cell_type": "code",
      "metadata": {
        "id": "uHxMuutBoJWf",
        "colab_type": "code",
        "colab": {
          "base_uri": "https://localhost:8080/",
          "height": 281
        },
        "outputId": "4d377765-ac67-4b09-f994-de073695d1fb"
      },
      "source": [
        "inertias = pd.DataFrame({'n_clusters': range(1, 7), 'inertia': inertia})\n",
        "ax = inertias.plot(x='n_clusters', y='inertia')\n",
        "plt.xlabel('Number of clusters(k)')\n",
        "plt.ylabel('Inertia')\n",
        "plt.ylim((0, 1.1 * inertias.inertia.max()))\n",
        "ax.legend().set_visible(False)\n",
        "plt.show()"
      ],
      "execution_count": null,
      "outputs": [
        {
          "output_type": "display_data",
          "data": {
            "image/png": "[encoded data removed]",
            "text/plain": [
              "<Figure size 432x288 with 1 Axes>"
            ]
          },
          "metadata": {
            "tags": [],
            "needs_background": "light"
          }
        }
      ]
    },
    {
      "cell_type": "code",
      "metadata": {
        "id": "o8o-qDkxoW1w",
        "colab_type": "code",
        "colab": {
          "base_uri": "https://localhost:8080/",
          "height": 69
        },
        "outputId": "05a7fd20-6073-4545-d7bb-1bb2189643f2"
      },
      "source": [
        "kmeans = KMeans(n_clusters=5, random_state=0)\n",
        "kmeans.fit(df_new_norm)"
      ],
      "execution_count": null,
      "outputs": [
        {
          "output_type": "execute_result",
          "data": {
            "text/plain": [
              "KMeans(algorithm='auto', copy_x=True, init='k-means++', max_iter=300,\n",
              "       n_clusters=5, n_init=10, n_jobs=None, precompute_distances='auto',\n",
              "       random_state=0, tol=0.0001, verbose=0)"
            ]
          },
          "metadata": {
            "tags": []
          },
          "execution_count": 40
        }
      ]
    },
    {
      "cell_type": "code",
      "metadata": {
        "id": "TInRYIrqolBY",
        "colab_type": "code",
        "colab": {}
      },
      "source": [
        "df_new[\"cluster_id\"] = kmeans.labels_"
      ],
      "execution_count": null,
      "outputs": []
    },
    {
      "cell_type": "code",
      "metadata": {
        "id": "kSRPFw9Uou_u",
        "colab_type": "code",
        "colab": {
          "base_uri": "https://localhost:8080/",
          "height": 141
        },
        "outputId": "92296536-89cd-46ef-962f-84fd565af751"
      },
      "source": [
        "df_new.head(2)"
      ],
      "execution_count": null,
      "outputs": [
        {
          "output_type": "execute_result",
          "data": {
            "text/html": [
              "<div>\n",
              "<style scoped>\n",
              "    .dataframe tbody tr th:only-of-type {\n",
              "        vertical-align: middle;\n",
              "    }\n",
              "\n",
              "    .dataframe tbody tr th {\n",
              "        vertical-align: top;\n",
              "    }\n",
              "\n",
              "    .dataframe thead th {\n",
              "        text-align: right;\n",
              "    }\n",
              "</style>\n",
              "<table border=\"1\" class=\"dataframe\">\n",
              "  <thead>\n",
              "    <tr style=\"text-align: right;\">\n",
              "      <th></th>\n",
              "      <th>Recency</th>\n",
              "      <th>Frequency</th>\n",
              "      <th>AvgAmount</th>\n",
              "      <th>cluster_id</th>\n",
              "    </tr>\n",
              "    <tr>\n",
              "      <th>customer_id</th>\n",
              "      <th></th>\n",
              "      <th></th>\n",
              "      <th></th>\n",
              "      <th></th>\n",
              "    </tr>\n",
              "  </thead>\n",
              "  <tbody>\n",
              "    <tr>\n",
              "      <th>10</th>\n",
              "      <td>3829</td>\n",
              "      <td>1</td>\n",
              "      <td>30.000000</td>\n",
              "      <td>4</td>\n",
              "    </tr>\n",
              "    <tr>\n",
              "      <th>80</th>\n",
              "      <td>343</td>\n",
              "      <td>7</td>\n",
              "      <td>71.428571</td>\n",
              "      <td>3</td>\n",
              "    </tr>\n",
              "  </tbody>\n",
              "</table>\n",
              "</div>"
            ],
            "text/plain": [
              "             Recency  Frequency  AvgAmount  cluster_id\n",
              "customer_id                                           \n",
              "10              3829          1  30.000000           4\n",
              "80               343          7  71.428571           3"
            ]
          },
          "metadata": {
            "tags": []
          },
          "execution_count": 42
        }
      ]
    },
    {
      "cell_type": "code",
      "metadata": {
        "id": "TlH5nKxkvUrt",
        "colab_type": "code",
        "colab": {
          "base_uri": "https://localhost:8080/",
          "height": 233
        },
        "outputId": "1e1e222b-ee6e-4697-ad52-3e254f9078d3"
      },
      "source": [
        "df_new.groupby(\"cluster_id\").mean()"
      ],
      "execution_count": null,
      "outputs": [
        {
          "output_type": "execute_result",
          "data": {
            "text/html": [
              "<div>\n",
              "<style scoped>\n",
              "    .dataframe tbody tr th:only-of-type {\n",
              "        vertical-align: middle;\n",
              "    }\n",
              "\n",
              "    .dataframe tbody tr th {\n",
              "        vertical-align: top;\n",
              "    }\n",
              "\n",
              "    .dataframe thead th {\n",
              "        text-align: right;\n",
              "    }\n",
              "</style>\n",
              "<table border=\"1\" class=\"dataframe\">\n",
              "  <thead>\n",
              "    <tr style=\"text-align: right;\">\n",
              "      <th></th>\n",
              "      <th>Recency</th>\n",
              "      <th>Frequency</th>\n",
              "      <th>AvgAmount</th>\n",
              "    </tr>\n",
              "    <tr>\n",
              "      <th>cluster_id</th>\n",
              "      <th></th>\n",
              "      <th></th>\n",
              "      <th></th>\n",
              "    </tr>\n",
              "  </thead>\n",
              "  <tbody>\n",
              "    <tr>\n",
              "      <th>0</th>\n",
              "      <td>699.520418</td>\n",
              "      <td>2.005677</td>\n",
              "      <td>23.878857</td>\n",
              "    </tr>\n",
              "    <tr>\n",
              "      <th>1</th>\n",
              "      <td>1019.471004</td>\n",
              "      <td>2.905233</td>\n",
              "      <td>504.523423</td>\n",
              "    </tr>\n",
              "    <tr>\n",
              "      <th>2</th>\n",
              "      <td>660.142558</td>\n",
              "      <td>2.184186</td>\n",
              "      <td>65.707700</td>\n",
              "    </tr>\n",
              "    <tr>\n",
              "      <th>3</th>\n",
              "      <td>304.385989</td>\n",
              "      <td>9.234432</td>\n",
              "      <td>52.390174</td>\n",
              "    </tr>\n",
              "    <tr>\n",
              "      <th>4</th>\n",
              "      <td>2607.625325</td>\n",
              "      <td>1.504944</td>\n",
              "      <td>31.276610</td>\n",
              "    </tr>\n",
              "  </tbody>\n",
              "</table>\n",
              "</div>"
            ],
            "text/plain": [
              "                Recency  Frequency   AvgAmount\n",
              "cluster_id                                    \n",
              "0            699.520418   2.005677   23.878857\n",
              "1           1019.471004   2.905233  504.523423\n",
              "2            660.142558   2.184186   65.707700\n",
              "3            304.385989   9.234432   52.390174\n",
              "4           2607.625325   1.504944   31.276610"
            ]
          },
          "metadata": {
            "tags": []
          },
          "execution_count": 43
        }
      ]
    },
    {
      "cell_type": "markdown",
      "metadata": {
        "id": "BwsQl4kXTi7c",
        "colab_type": "text"
      },
      "source": [
        "Custer 0 corresponds to first cluster and so on"
      ]
    },
    {
      "cell_type": "code",
      "metadata": {
        "id": "pgsEoKJ70ADp",
        "colab_type": "code",
        "colab": {
          "base_uri": "https://localhost:8080/",
          "height": 202
        },
        "outputId": "090e1277-cc15-4643-f0bc-072a099191fa"
      },
      "source": [
        "df_new=df_new.reset_index()\n",
        "df_new.head()"
      ],
      "execution_count": null,
      "outputs": [
        {
          "output_type": "execute_result",
          "data": {
            "text/html": [
              "<div>\n",
              "<style scoped>\n",
              "    .dataframe tbody tr th:only-of-type {\n",
              "        vertical-align: middle;\n",
              "    }\n",
              "\n",
              "    .dataframe tbody tr th {\n",
              "        vertical-align: top;\n",
              "    }\n",
              "\n",
              "    .dataframe thead th {\n",
              "        text-align: right;\n",
              "    }\n",
              "</style>\n",
              "<table border=\"1\" class=\"dataframe\">\n",
              "  <thead>\n",
              "    <tr style=\"text-align: right;\">\n",
              "      <th></th>\n",
              "      <th>customer_id</th>\n",
              "      <th>Recency</th>\n",
              "      <th>Frequency</th>\n",
              "      <th>AvgAmount</th>\n",
              "      <th>cluster_id</th>\n",
              "    </tr>\n",
              "  </thead>\n",
              "  <tbody>\n",
              "    <tr>\n",
              "      <th>0</th>\n",
              "      <td>10</td>\n",
              "      <td>3829</td>\n",
              "      <td>1</td>\n",
              "      <td>30.000000</td>\n",
              "      <td>4</td>\n",
              "    </tr>\n",
              "    <tr>\n",
              "      <th>1</th>\n",
              "      <td>80</td>\n",
              "      <td>343</td>\n",
              "      <td>7</td>\n",
              "      <td>71.428571</td>\n",
              "      <td>3</td>\n",
              "    </tr>\n",
              "    <tr>\n",
              "      <th>2</th>\n",
              "      <td>90</td>\n",
              "      <td>758</td>\n",
              "      <td>10</td>\n",
              "      <td>115.800000</td>\n",
              "      <td>3</td>\n",
              "    </tr>\n",
              "    <tr>\n",
              "      <th>3</th>\n",
              "      <td>120</td>\n",
              "      <td>1401</td>\n",
              "      <td>1</td>\n",
              "      <td>20.000000</td>\n",
              "      <td>0</td>\n",
              "    </tr>\n",
              "    <tr>\n",
              "      <th>4</th>\n",
              "      <td>130</td>\n",
              "      <td>2970</td>\n",
              "      <td>2</td>\n",
              "      <td>50.000000</td>\n",
              "      <td>4</td>\n",
              "    </tr>\n",
              "  </tbody>\n",
              "</table>\n",
              "</div>"
            ],
            "text/plain": [
              "   customer_id  Recency  Frequency   AvgAmount  cluster_id\n",
              "0           10     3829          1   30.000000           4\n",
              "1           80      343          7   71.428571           3\n",
              "2           90      758         10  115.800000           3\n",
              "3          120     1401          1   20.000000           0\n",
              "4          130     2970          2   50.000000           4"
            ]
          },
          "metadata": {
            "tags": []
          },
          "execution_count": 44
        }
      ]
    },
    {
      "cell_type": "code",
      "metadata": {
        "id": "PkfdQxAY8W4Q",
        "colab_type": "code",
        "colab": {
          "base_uri": "https://localhost:8080/",
          "height": 233
        },
        "outputId": "e9b50455-b117-496d-8d95-a20da8f0ecfa"
      },
      "source": [
        "df_new.groupby(\"cluster_id\").count()"
      ],
      "execution_count": null,
      "outputs": [
        {
          "output_type": "execute_result",
          "data": {
            "text/html": [
              "<div>\n",
              "<style scoped>\n",
              "    .dataframe tbody tr th:only-of-type {\n",
              "        vertical-align: middle;\n",
              "    }\n",
              "\n",
              "    .dataframe tbody tr th {\n",
              "        vertical-align: top;\n",
              "    }\n",
              "\n",
              "    .dataframe thead th {\n",
              "        text-align: right;\n",
              "    }\n",
              "</style>\n",
              "<table border=\"1\" class=\"dataframe\">\n",
              "  <thead>\n",
              "    <tr style=\"text-align: right;\">\n",
              "      <th></th>\n",
              "      <th>customer_id</th>\n",
              "      <th>Recency</th>\n",
              "      <th>Frequency</th>\n",
              "      <th>AvgAmount</th>\n",
              "    </tr>\n",
              "    <tr>\n",
              "      <th>cluster_id</th>\n",
              "      <th></th>\n",
              "      <th></th>\n",
              "      <th></th>\n",
              "      <th></th>\n",
              "    </tr>\n",
              "  </thead>\n",
              "  <tbody>\n",
              "    <tr>\n",
              "      <th>0</th>\n",
              "      <td>5461</td>\n",
              "      <td>5461</td>\n",
              "      <td>5461</td>\n",
              "      <td>5461</td>\n",
              "    </tr>\n",
              "    <tr>\n",
              "      <th>1</th>\n",
              "      <td>707</td>\n",
              "      <td>707</td>\n",
              "      <td>707</td>\n",
              "      <td>707</td>\n",
              "    </tr>\n",
              "    <tr>\n",
              "      <th>2</th>\n",
              "      <td>4300</td>\n",
              "      <td>4300</td>\n",
              "      <td>4300</td>\n",
              "      <td>4300</td>\n",
              "    </tr>\n",
              "    <tr>\n",
              "      <th>3</th>\n",
              "      <td>2184</td>\n",
              "      <td>2184</td>\n",
              "      <td>2184</td>\n",
              "      <td>2184</td>\n",
              "    </tr>\n",
              "    <tr>\n",
              "      <th>4</th>\n",
              "      <td>5765</td>\n",
              "      <td>5765</td>\n",
              "      <td>5765</td>\n",
              "      <td>5765</td>\n",
              "    </tr>\n",
              "  </tbody>\n",
              "</table>\n",
              "</div>"
            ],
            "text/plain": [
              "            customer_id  Recency  Frequency  AvgAmount\n",
              "cluster_id                                            \n",
              "0                  5461     5461       5461       5461\n",
              "1                   707      707        707        707\n",
              "2                  4300     4300       4300       4300\n",
              "3                  2184     2184       2184       2184\n",
              "4                  5765     5765       5765       5765"
            ]
          },
          "metadata": {
            "tags": []
          },
          "execution_count": 45
        }
      ]
    },
    {
      "cell_type": "code",
      "metadata": {
        "id": "22o80KoK0OVP",
        "colab_type": "code",
        "colab": {
          "base_uri": "https://localhost:8080/",
          "height": 202
        },
        "outputId": "0d47ff53-2e63-4dac-ed6b-7dda865f1dc7"
      },
      "source": [
        "df.head()"
      ],
      "execution_count": null,
      "outputs": [
        {
          "output_type": "execute_result",
          "data": {
            "text/html": [
              "<div>\n",
              "<style scoped>\n",
              "    .dataframe tbody tr th:only-of-type {\n",
              "        vertical-align: middle;\n",
              "    }\n",
              "\n",
              "    .dataframe tbody tr th {\n",
              "        vertical-align: top;\n",
              "    }\n",
              "\n",
              "    .dataframe thead th {\n",
              "        text-align: right;\n",
              "    }\n",
              "</style>\n",
              "<table border=\"1\" class=\"dataframe\">\n",
              "  <thead>\n",
              "    <tr style=\"text-align: right;\">\n",
              "      <th></th>\n",
              "      <th>customer_id</th>\n",
              "      <th>purchase_amount</th>\n",
              "      <th>date_of_purchase</th>\n",
              "      <th>Day</th>\n",
              "      <th>Month</th>\n",
              "      <th>Year</th>\n",
              "      <th>weekday</th>\n",
              "      <th>day_since</th>\n",
              "    </tr>\n",
              "  </thead>\n",
              "  <tbody>\n",
              "    <tr>\n",
              "      <th>0</th>\n",
              "      <td>760</td>\n",
              "      <td>25.0</td>\n",
              "      <td>2009-11-06</td>\n",
              "      <td>6</td>\n",
              "      <td>11</td>\n",
              "      <td>2009</td>\n",
              "      <td>4</td>\n",
              "      <td>2247</td>\n",
              "    </tr>\n",
              "    <tr>\n",
              "      <th>1</th>\n",
              "      <td>860</td>\n",
              "      <td>50.0</td>\n",
              "      <td>2012-09-28</td>\n",
              "      <td>28</td>\n",
              "      <td>9</td>\n",
              "      <td>2012</td>\n",
              "      <td>4</td>\n",
              "      <td>1190</td>\n",
              "    </tr>\n",
              "    <tr>\n",
              "      <th>2</th>\n",
              "      <td>1200</td>\n",
              "      <td>100.0</td>\n",
              "      <td>2005-10-25</td>\n",
              "      <td>25</td>\n",
              "      <td>10</td>\n",
              "      <td>2005</td>\n",
              "      <td>1</td>\n",
              "      <td>3720</td>\n",
              "    </tr>\n",
              "    <tr>\n",
              "      <th>3</th>\n",
              "      <td>1420</td>\n",
              "      <td>50.0</td>\n",
              "      <td>2009-07-09</td>\n",
              "      <td>9</td>\n",
              "      <td>7</td>\n",
              "      <td>2009</td>\n",
              "      <td>3</td>\n",
              "      <td>2367</td>\n",
              "    </tr>\n",
              "    <tr>\n",
              "      <th>4</th>\n",
              "      <td>1940</td>\n",
              "      <td>70.0</td>\n",
              "      <td>2013-01-25</td>\n",
              "      <td>25</td>\n",
              "      <td>1</td>\n",
              "      <td>2013</td>\n",
              "      <td>4</td>\n",
              "      <td>1071</td>\n",
              "    </tr>\n",
              "  </tbody>\n",
              "</table>\n",
              "</div>"
            ],
            "text/plain": [
              "   customer_id  purchase_amount date_of_purchase  ...  Year  weekday  day_since\n",
              "0          760             25.0       2009-11-06  ...  2009        4       2247\n",
              "1          860             50.0       2012-09-28  ...  2012        4       1190\n",
              "2         1200            100.0       2005-10-25  ...  2005        1       3720\n",
              "3         1420             50.0       2009-07-09  ...  2009        3       2367\n",
              "4         1940             70.0       2013-01-25  ...  2013        4       1071\n",
              "\n",
              "[5 rows x 8 columns]"
            ]
          },
          "metadata": {
            "tags": []
          },
          "execution_count": 46
        }
      ]
    },
    {
      "cell_type": "code",
      "metadata": {
        "id": "9T4eUX6G2cG7",
        "colab_type": "code",
        "colab": {}
      },
      "source": [
        "df_overall = pd.merge(df, df_new, on='customer_id')"
      ],
      "execution_count": null,
      "outputs": []
    },
    {
      "cell_type": "code",
      "metadata": {
        "id": "dKj4c_Kc6Ww8",
        "colab_type": "code",
        "colab": {
          "base_uri": "https://localhost:8080/",
          "height": 202
        },
        "outputId": "5322c0d4-74cb-432f-c116-9cfe73d256c1"
      },
      "source": [
        "df_overall.head()"
      ],
      "execution_count": null,
      "outputs": [
        {
          "output_type": "execute_result",
          "data": {
            "text/html": [
              "<div>\n",
              "<style scoped>\n",
              "    .dataframe tbody tr th:only-of-type {\n",
              "        vertical-align: middle;\n",
              "    }\n",
              "\n",
              "    .dataframe tbody tr th {\n",
              "        vertical-align: top;\n",
              "    }\n",
              "\n",
              "    .dataframe thead th {\n",
              "        text-align: right;\n",
              "    }\n",
              "</style>\n",
              "<table border=\"1\" class=\"dataframe\">\n",
              "  <thead>\n",
              "    <tr style=\"text-align: right;\">\n",
              "      <th></th>\n",
              "      <th>customer_id</th>\n",
              "      <th>purchase_amount</th>\n",
              "      <th>date_of_purchase</th>\n",
              "      <th>Day</th>\n",
              "      <th>Month</th>\n",
              "      <th>Year</th>\n",
              "      <th>weekday</th>\n",
              "      <th>day_since</th>\n",
              "      <th>Recency</th>\n",
              "      <th>Frequency</th>\n",
              "      <th>AvgAmount</th>\n",
              "      <th>cluster_id</th>\n",
              "    </tr>\n",
              "  </thead>\n",
              "  <tbody>\n",
              "    <tr>\n",
              "      <th>0</th>\n",
              "      <td>760</td>\n",
              "      <td>25.0</td>\n",
              "      <td>2009-11-06</td>\n",
              "      <td>6</td>\n",
              "      <td>11</td>\n",
              "      <td>2009</td>\n",
              "      <td>4</td>\n",
              "      <td>2247</td>\n",
              "      <td>1273</td>\n",
              "      <td>5</td>\n",
              "      <td>38.0</td>\n",
              "      <td>2</td>\n",
              "    </tr>\n",
              "    <tr>\n",
              "      <th>1</th>\n",
              "      <td>760</td>\n",
              "      <td>50.0</td>\n",
              "      <td>2008-10-15</td>\n",
              "      <td>15</td>\n",
              "      <td>10</td>\n",
              "      <td>2008</td>\n",
              "      <td>2</td>\n",
              "      <td>2634</td>\n",
              "      <td>1273</td>\n",
              "      <td>5</td>\n",
              "      <td>38.0</td>\n",
              "      <td>2</td>\n",
              "    </tr>\n",
              "    <tr>\n",
              "      <th>2</th>\n",
              "      <td>760</td>\n",
              "      <td>60.0</td>\n",
              "      <td>2007-10-17</td>\n",
              "      <td>17</td>\n",
              "      <td>10</td>\n",
              "      <td>2007</td>\n",
              "      <td>2</td>\n",
              "      <td>2998</td>\n",
              "      <td>1273</td>\n",
              "      <td>5</td>\n",
              "      <td>38.0</td>\n",
              "      <td>2</td>\n",
              "    </tr>\n",
              "    <tr>\n",
              "      <th>3</th>\n",
              "      <td>760</td>\n",
              "      <td>30.0</td>\n",
              "      <td>2006-12-26</td>\n",
              "      <td>26</td>\n",
              "      <td>12</td>\n",
              "      <td>2006</td>\n",
              "      <td>1</td>\n",
              "      <td>3293</td>\n",
              "      <td>1273</td>\n",
              "      <td>5</td>\n",
              "      <td>38.0</td>\n",
              "      <td>2</td>\n",
              "    </tr>\n",
              "    <tr>\n",
              "      <th>4</th>\n",
              "      <td>760</td>\n",
              "      <td>25.0</td>\n",
              "      <td>2012-07-07</td>\n",
              "      <td>7</td>\n",
              "      <td>7</td>\n",
              "      <td>2012</td>\n",
              "      <td>5</td>\n",
              "      <td>1273</td>\n",
              "      <td>1273</td>\n",
              "      <td>5</td>\n",
              "      <td>38.0</td>\n",
              "      <td>2</td>\n",
              "    </tr>\n",
              "  </tbody>\n",
              "</table>\n",
              "</div>"
            ],
            "text/plain": [
              "   customer_id  purchase_amount  ... AvgAmount  cluster_id\n",
              "0          760             25.0  ...      38.0           2\n",
              "1          760             50.0  ...      38.0           2\n",
              "2          760             60.0  ...      38.0           2\n",
              "3          760             30.0  ...      38.0           2\n",
              "4          760             25.0  ...      38.0           2\n",
              "\n",
              "[5 rows x 12 columns]"
            ]
          },
          "metadata": {
            "tags": []
          },
          "execution_count": 48
        }
      ]
    },
    {
      "cell_type": "code",
      "metadata": {
        "id": "nPcjt1ZW6dPm",
        "colab_type": "code",
        "colab": {
          "base_uri": "https://localhost:8080/",
          "height": 34
        },
        "outputId": "31a9f4d1-9275-43f0-d553-e7d6cede64b8"
      },
      "source": [
        "df.shape"
      ],
      "execution_count": null,
      "outputs": [
        {
          "output_type": "execute_result",
          "data": {
            "text/plain": [
              "(51243, 8)"
            ]
          },
          "metadata": {
            "tags": []
          },
          "execution_count": 49
        }
      ]
    },
    {
      "cell_type": "code",
      "metadata": {
        "id": "Z9QGlvXZ6imD",
        "colab_type": "code",
        "colab": {
          "base_uri": "https://localhost:8080/",
          "height": 34
        },
        "outputId": "152f01d3-79eb-4592-d6f9-13871a530028"
      },
      "source": [
        "df_overall.shape"
      ],
      "execution_count": null,
      "outputs": [
        {
          "output_type": "execute_result",
          "data": {
            "text/plain": [
              "(51243, 12)"
            ]
          },
          "metadata": {
            "tags": []
          },
          "execution_count": 50
        }
      ]
    },
    {
      "cell_type": "code",
      "metadata": {
        "id": "L38S5aDPwT0Q",
        "colab_type": "code",
        "colab": {}
      },
      "source": [
        "dfcluster1=df_overall.loc[df_overall['cluster_id'] == 1]"
      ],
      "execution_count": null,
      "outputs": []
    },
    {
      "cell_type": "code",
      "metadata": {
        "id": "KE50xUjlwjds",
        "colab_type": "code",
        "colab": {
          "base_uri": "https://localhost:8080/",
          "height": 416
        },
        "outputId": "0a504a3e-2e25-41c5-973d-6ba230eefc3f"
      },
      "source": [
        "dfcluster1.sort_values(by=\"Recency\").tail(700)\n",
        "# In this cluster the avg amount is mostly high (>100 per transaction)\n",
        "# Hence all are high value customers\n",
        "# In this cluster we have segmented further into 2 parts\n",
        "# First part corresponds to people with approximately <1000 (2.7 years) recency\n",
        "# Second part corresponds to the people with apprx >1000 recency.\n",
        "# This is done because this is the cluster with max recency but also max avg amount value\n",
        "# So, the offers will be different for people with different recency (first part and second part)\n",
        "# because the people with max recency (second part) will be lured back by offers.\n",
        "# and the people with min recency (first part) will be given other offers."
      ],
      "execution_count": null,
      "outputs": [
        {
          "output_type": "execute_result",
          "data": {
            "text/html": [
              "<div>\n",
              "<style scoped>\n",
              "    .dataframe tbody tr th:only-of-type {\n",
              "        vertical-align: middle;\n",
              "    }\n",
              "\n",
              "    .dataframe tbody tr th {\n",
              "        vertical-align: top;\n",
              "    }\n",
              "\n",
              "    .dataframe thead th {\n",
              "        text-align: right;\n",
              "    }\n",
              "</style>\n",
              "<table border=\"1\" class=\"dataframe\">\n",
              "  <thead>\n",
              "    <tr style=\"text-align: right;\">\n",
              "      <th></th>\n",
              "      <th>customer_id</th>\n",
              "      <th>purchase_amount</th>\n",
              "      <th>date_of_purchase</th>\n",
              "      <th>Day</th>\n",
              "      <th>Month</th>\n",
              "      <th>Year</th>\n",
              "      <th>weekday</th>\n",
              "      <th>day_since</th>\n",
              "      <th>Recency</th>\n",
              "      <th>Frequency</th>\n",
              "      <th>AvgAmount</th>\n",
              "      <th>cluster_id</th>\n",
              "    </tr>\n",
              "  </thead>\n",
              "  <tbody>\n",
              "    <tr>\n",
              "      <th>8052</th>\n",
              "      <td>10010</td>\n",
              "      <td>50.0</td>\n",
              "      <td>2006-11-08</td>\n",
              "      <td>8</td>\n",
              "      <td>11</td>\n",
              "      <td>2006</td>\n",
              "      <td>2</td>\n",
              "      <td>3341</td>\n",
              "      <td>825</td>\n",
              "      <td>6</td>\n",
              "      <td>141.666667</td>\n",
              "      <td>1</td>\n",
              "    </tr>\n",
              "    <tr>\n",
              "      <th>8054</th>\n",
              "      <td>10010</td>\n",
              "      <td>100.0</td>\n",
              "      <td>2008-11-08</td>\n",
              "      <td>8</td>\n",
              "      <td>11</td>\n",
              "      <td>2008</td>\n",
              "      <td>5</td>\n",
              "      <td>2610</td>\n",
              "      <td>825</td>\n",
              "      <td>6</td>\n",
              "      <td>141.666667</td>\n",
              "      <td>1</td>\n",
              "    </tr>\n",
              "    <tr>\n",
              "      <th>8055</th>\n",
              "      <td>10010</td>\n",
              "      <td>150.0</td>\n",
              "      <td>2006-12-31</td>\n",
              "      <td>31</td>\n",
              "      <td>12</td>\n",
              "      <td>2006</td>\n",
              "      <td>6</td>\n",
              "      <td>3288</td>\n",
              "      <td>825</td>\n",
              "      <td>6</td>\n",
              "      <td>141.666667</td>\n",
              "      <td>1</td>\n",
              "    </tr>\n",
              "    <tr>\n",
              "      <th>47201</th>\n",
              "      <td>158700</td>\n",
              "      <td>500.0</td>\n",
              "      <td>2013-09-27</td>\n",
              "      <td>27</td>\n",
              "      <td>9</td>\n",
              "      <td>2013</td>\n",
              "      <td>4</td>\n",
              "      <td>826</td>\n",
              "      <td>826</td>\n",
              "      <td>1</td>\n",
              "      <td>500.000000</td>\n",
              "      <td>1</td>\n",
              "    </tr>\n",
              "    <tr>\n",
              "      <th>46937</th>\n",
              "      <td>187660</td>\n",
              "      <td>1000.0</td>\n",
              "      <td>2012-12-09</td>\n",
              "      <td>9</td>\n",
              "      <td>12</td>\n",
              "      <td>2012</td>\n",
              "      <td>6</td>\n",
              "      <td>1118</td>\n",
              "      <td>833</td>\n",
              "      <td>2</td>\n",
              "      <td>900.000000</td>\n",
              "      <td>1</td>\n",
              "    </tr>\n",
              "    <tr>\n",
              "      <th>...</th>\n",
              "      <td>...</td>\n",
              "      <td>...</td>\n",
              "      <td>...</td>\n",
              "      <td>...</td>\n",
              "      <td>...</td>\n",
              "      <td>...</td>\n",
              "      <td>...</td>\n",
              "      <td>...</td>\n",
              "      <td>...</td>\n",
              "      <td>...</td>\n",
              "      <td>...</td>\n",
              "      <td>...</td>\n",
              "    </tr>\n",
              "    <tr>\n",
              "      <th>50990</th>\n",
              "      <td>32220</td>\n",
              "      <td>200.0</td>\n",
              "      <td>2005-11-25</td>\n",
              "      <td>25</td>\n",
              "      <td>11</td>\n",
              "      <td>2005</td>\n",
              "      <td>4</td>\n",
              "      <td>3689</td>\n",
              "      <td>3689</td>\n",
              "      <td>1</td>\n",
              "      <td>200.000000</td>\n",
              "      <td>1</td>\n",
              "    </tr>\n",
              "    <tr>\n",
              "      <th>39302</th>\n",
              "      <td>11790</td>\n",
              "      <td>250.0</td>\n",
              "      <td>2005-11-25</td>\n",
              "      <td>25</td>\n",
              "      <td>11</td>\n",
              "      <td>2005</td>\n",
              "      <td>4</td>\n",
              "      <td>3689</td>\n",
              "      <td>3689</td>\n",
              "      <td>1</td>\n",
              "      <td>250.000000</td>\n",
              "      <td>1</td>\n",
              "    </tr>\n",
              "    <tr>\n",
              "      <th>1333</th>\n",
              "      <td>17160</td>\n",
              "      <td>1807.0</td>\n",
              "      <td>2005-04-23</td>\n",
              "      <td>23</td>\n",
              "      <td>4</td>\n",
              "      <td>2005</td>\n",
              "      <td>5</td>\n",
              "      <td>3905</td>\n",
              "      <td>3905</td>\n",
              "      <td>1</td>\n",
              "      <td>1807.000000</td>\n",
              "      <td>1</td>\n",
              "    </tr>\n",
              "    <tr>\n",
              "      <th>50839</th>\n",
              "      <td>15410</td>\n",
              "      <td>400.0</td>\n",
              "      <td>2005-04-20</td>\n",
              "      <td>20</td>\n",
              "      <td>4</td>\n",
              "      <td>2005</td>\n",
              "      <td>2</td>\n",
              "      <td>3908</td>\n",
              "      <td>3908</td>\n",
              "      <td>1</td>\n",
              "      <td>400.000000</td>\n",
              "      <td>1</td>\n",
              "    </tr>\n",
              "    <tr>\n",
              "      <th>47352</th>\n",
              "      <td>14150</td>\n",
              "      <td>210.0</td>\n",
              "      <td>2005-01-06</td>\n",
              "      <td>6</td>\n",
              "      <td>1</td>\n",
              "      <td>2005</td>\n",
              "      <td>3</td>\n",
              "      <td>4012</td>\n",
              "      <td>4012</td>\n",
              "      <td>1</td>\n",
              "      <td>210.000000</td>\n",
              "      <td>1</td>\n",
              "    </tr>\n",
              "  </tbody>\n",
              "</table>\n",
              "<p>700 rows × 12 columns</p>\n",
              "</div>"
            ],
            "text/plain": [
              "       customer_id  purchase_amount  ...    AvgAmount  cluster_id\n",
              "8052         10010             50.0  ...   141.666667           1\n",
              "8054         10010            100.0  ...   141.666667           1\n",
              "8055         10010            150.0  ...   141.666667           1\n",
              "47201       158700            500.0  ...   500.000000           1\n",
              "46937       187660           1000.0  ...   900.000000           1\n",
              "...            ...              ...  ...          ...         ...\n",
              "50990        32220            200.0  ...   200.000000           1\n",
              "39302        11790            250.0  ...   250.000000           1\n",
              "1333         17160           1807.0  ...  1807.000000           1\n",
              "50839        15410            400.0  ...   400.000000           1\n",
              "47352        14150            210.0  ...   210.000000           1\n",
              "\n",
              "[700 rows x 12 columns]"
            ]
          },
          "metadata": {
            "tags": []
          },
          "execution_count": 52
        }
      ]
    },
    {
      "cell_type": "code",
      "metadata": {
        "id": "FK_-LDt9BqGQ",
        "colab_type": "code",
        "colab": {}
      },
      "source": [
        "var=[\"Day\",\"Month\",\"Year\",\"weekday\",\"cluster_id\"] \n",
        "df_imp=df_overall[var]"
      ],
      "execution_count": null,
      "outputs": []
    },
    {
      "cell_type": "code",
      "metadata": {
        "id": "M5Hz2d1c6mkl",
        "colab_type": "code",
        "colab": {}
      },
      "source": [
        "dfc1=df_imp.loc[df_imp['cluster_id'] == 0]\n",
        "dfc2=df_imp.loc[df_imp['cluster_id'] == 1]\n",
        "dfc3=df_imp.loc[df_imp['cluster_id'] == 2]\n",
        "dfc4=df_imp.loc[df_imp['cluster_id'] == 3]\n",
        "dfc5=df_imp.loc[df_imp['cluster_id'] == 4]"
      ],
      "execution_count": null,
      "outputs": []
    },
    {
      "cell_type": "code",
      "metadata": {
        "id": "V-htlxHtDZR8",
        "colab_type": "code",
        "colab": {}
      },
      "source": [
        "colnames=list(dfc1.columns)"
      ],
      "execution_count": null,
      "outputs": []
    },
    {
      "cell_type": "code",
      "metadata": {
        "id": "N3MwIO_D8UoW",
        "colab_type": "code",
        "colab": {
          "base_uri": "https://localhost:8080/",
          "height": 1000
        },
        "outputId": "8d3ee980-a136-4bb8-86cb-43d1aab5bda3"
      },
      "source": [
        "for col in var:\n",
        "    print(dfc1.groupby(col)['cluster_id'].count())\n",
        "    print()"
      ],
      "execution_count": null,
      "outputs": [
        {
          "output_type": "stream",
          "text": [
            "Day\n",
            "1      243\n",
            "2      220\n",
            "3      293\n",
            "4      299\n",
            "5      399\n",
            "6      164\n",
            "7      438\n",
            "8      328\n",
            "9      330\n",
            "10     206\n",
            "11     244\n",
            "12     369\n",
            "13     242\n",
            "14     225\n",
            "15     351\n",
            "16     299\n",
            "17     363\n",
            "18     380\n",
            "19     323\n",
            "20     296\n",
            "21     366\n",
            "22     289\n",
            "23     587\n",
            "24     399\n",
            "25     375\n",
            "26     242\n",
            "27     318\n",
            "28     419\n",
            "29     313\n",
            "30     495\n",
            "31    1138\n",
            "Name: cluster_id, dtype: int64\n",
            "\n",
            "Month\n",
            "1      251\n",
            "2      366\n",
            "3      770\n",
            "4      798\n",
            "5      696\n",
            "6      728\n",
            "7      632\n",
            "8      385\n",
            "9      556\n",
            "10    1377\n",
            "11    1566\n",
            "12    2828\n",
            "Name: cluster_id, dtype: int64\n",
            "\n",
            "Year\n",
            "2005      86\n",
            "2006     195\n",
            "2007     474\n",
            "2008     418\n",
            "2009     563\n",
            "2010     578\n",
            "2011    1121\n",
            "2012    1940\n",
            "2013    1909\n",
            "2014    1728\n",
            "2015    1941\n",
            "Name: cluster_id, dtype: int64\n",
            "\n",
            "weekday\n",
            "0     177\n",
            "1    1303\n",
            "2    2753\n",
            "3    1964\n",
            "4    2606\n",
            "5    1867\n",
            "6     283\n",
            "Name: cluster_id, dtype: int64\n",
            "\n",
            "cluster_id\n",
            "0    10953\n",
            "Name: cluster_id, dtype: int64\n",
            "\n"
          ],
          "name": "stdout"
        }
      ]
    },
    {
      "cell_type": "code",
      "metadata": {
        "id": "EXHRtEaVDcUp",
        "colab_type": "code",
        "colab": {
          "base_uri": "https://localhost:8080/",
          "height": 1000
        },
        "outputId": "6226ac31-2477-41cf-fbbc-c9523212de4c"
      },
      "source": [
        "for col in var:\n",
        "    print(dfc2.groupby(col)['cluster_id'].count())\n",
        "    print()"
      ],
      "execution_count": null,
      "outputs": [
        {
          "output_type": "stream",
          "text": [
            "Day\n",
            "1      43\n",
            "2      43\n",
            "3      48\n",
            "4      51\n",
            "5      41\n",
            "6      36\n",
            "7      68\n",
            "8      52\n",
            "9      54\n",
            "10     44\n",
            "11     39\n",
            "12     58\n",
            "13     32\n",
            "14     44\n",
            "15     66\n",
            "16     54\n",
            "17     67\n",
            "18     53\n",
            "19     54\n",
            "20     49\n",
            "21     55\n",
            "22     60\n",
            "23     78\n",
            "24     78\n",
            "25     66\n",
            "26     52\n",
            "27     71\n",
            "28     58\n",
            "29     74\n",
            "30     84\n",
            "31    382\n",
            "Name: cluster_id, dtype: int64\n",
            "\n",
            "Month\n",
            "1      44\n",
            "2      43\n",
            "3      97\n",
            "4     103\n",
            "5     155\n",
            "6     108\n",
            "7      87\n",
            "8      47\n",
            "9     105\n",
            "10    169\n",
            "11    240\n",
            "12    856\n",
            "Name: cluster_id, dtype: int64\n",
            "\n",
            "Year\n",
            "2005     69\n",
            "2006     84\n",
            "2007    139\n",
            "2008    158\n",
            "2009    158\n",
            "2010    201\n",
            "2011    220\n",
            "2012    236\n",
            "2013    249\n",
            "2014    262\n",
            "2015    278\n",
            "Name: cluster_id, dtype: int64\n",
            "\n",
            "weekday\n",
            "0     81\n",
            "1    269\n",
            "2    510\n",
            "3    371\n",
            "4    426\n",
            "5    313\n",
            "6     84\n",
            "Name: cluster_id, dtype: int64\n",
            "\n",
            "cluster_id\n",
            "1    2054\n",
            "Name: cluster_id, dtype: int64\n",
            "\n"
          ],
          "name": "stdout"
        }
      ]
    },
    {
      "cell_type": "code",
      "metadata": {
        "id": "DjDHedNWDjj-",
        "colab_type": "code",
        "colab": {
          "base_uri": "https://localhost:8080/",
          "height": 1000
        },
        "outputId": "6f890ffc-ec65-4009-bfe0-ab51af11a67e"
      },
      "source": [
        "for col in var:\n",
        "    print(dfc3.groupby(col)['cluster_id'].count())\n",
        "    print()"
      ],
      "execution_count": null,
      "outputs": [
        {
          "output_type": "stream",
          "text": [
            "Day\n",
            "1      187\n",
            "2      199\n",
            "3      208\n",
            "4      287\n",
            "5      333\n",
            "6      129\n",
            "7      369\n",
            "8      259\n",
            "9      267\n",
            "10     194\n",
            "11     215\n",
            "12     326\n",
            "13     182\n",
            "14     205\n",
            "15     277\n",
            "16     219\n",
            "17     349\n",
            "18     307\n",
            "19     277\n",
            "20     276\n",
            "21     313\n",
            "22     273\n",
            "23     436\n",
            "24     319\n",
            "25     299\n",
            "26     242\n",
            "27     256\n",
            "28     306\n",
            "29     269\n",
            "30     399\n",
            "31    1215\n",
            "Name: cluster_id, dtype: int64\n",
            "\n",
            "Month\n",
            "1      221\n",
            "2      269\n",
            "3      549\n",
            "4      596\n",
            "5      547\n",
            "6      521\n",
            "7      537\n",
            "8      272\n",
            "9      485\n",
            "10    1038\n",
            "11    1361\n",
            "12    2996\n",
            "Name: cluster_id, dtype: int64\n",
            "\n",
            "Year\n",
            "2005      82\n",
            "2006     148\n",
            "2007     393\n",
            "2008     360\n",
            "2009     508\n",
            "2010     630\n",
            "2011     940\n",
            "2012    1423\n",
            "2013    1479\n",
            "2014    1560\n",
            "2015    1869\n",
            "Name: cluster_id, dtype: int64\n",
            "\n",
            "weekday\n",
            "0     236\n",
            "1    1187\n",
            "2    2388\n",
            "3    1614\n",
            "4    2197\n",
            "5    1521\n",
            "6     249\n",
            "Name: cluster_id, dtype: int64\n",
            "\n",
            "cluster_id\n",
            "2    9392\n",
            "Name: cluster_id, dtype: int64\n",
            "\n"
          ],
          "name": "stdout"
        }
      ]
    },
    {
      "cell_type": "code",
      "metadata": {
        "id": "k6YfoxBCDqXk",
        "colab_type": "code",
        "colab": {
          "base_uri": "https://localhost:8080/",
          "height": 1000
        },
        "outputId": "7cbdf8da-721e-4a70-a745-2bc85231b8bb"
      },
      "source": [
        "for col in var:\n",
        "    print(dfc4.groupby(col)['cluster_id'].count())\n",
        "    print()"
      ],
      "execution_count": null,
      "outputs": [
        {
          "output_type": "stream",
          "text": [
            "Day\n",
            "1      427\n",
            "2      465\n",
            "3      370\n",
            "4      597\n",
            "5      589\n",
            "6      328\n",
            "7      783\n",
            "8      602\n",
            "9      593\n",
            "10     462\n",
            "11     491\n",
            "12     717\n",
            "13     384\n",
            "14     519\n",
            "15     543\n",
            "16     520\n",
            "17     707\n",
            "18     693\n",
            "19     681\n",
            "20     651\n",
            "21     633\n",
            "22     537\n",
            "23    1002\n",
            "24     591\n",
            "25     675\n",
            "26     471\n",
            "27     669\n",
            "28     707\n",
            "29     509\n",
            "30     757\n",
            "31    2495\n",
            "Name: cluster_id, dtype: int64\n",
            "\n",
            "Month\n",
            "1      549\n",
            "2      591\n",
            "3     1380\n",
            "4     1742\n",
            "5     1045\n",
            "6     1185\n",
            "7     1165\n",
            "8      518\n",
            "9     1227\n",
            "10    2090\n",
            "11    2283\n",
            "12    6393\n",
            "Name: cluster_id, dtype: int64\n",
            "\n",
            "Year\n",
            "2005     667\n",
            "2006     873\n",
            "2007    1539\n",
            "2008    1605\n",
            "2009    2112\n",
            "2010    2148\n",
            "2011    2290\n",
            "2012    2361\n",
            "2013    2275\n",
            "2014    2189\n",
            "2015    2109\n",
            "Name: cluster_id, dtype: int64\n",
            "\n",
            "weekday\n",
            "0     366\n",
            "1    2149\n",
            "2    5665\n",
            "3    3022\n",
            "4    5264\n",
            "5    3090\n",
            "6     612\n",
            "Name: cluster_id, dtype: int64\n",
            "\n",
            "cluster_id\n",
            "3    20168\n",
            "Name: cluster_id, dtype: int64\n",
            "\n"
          ],
          "name": "stdout"
        }
      ]
    },
    {
      "cell_type": "code",
      "metadata": {
        "id": "ZPye_gK7Dwly",
        "colab_type": "code",
        "colab": {
          "base_uri": "https://localhost:8080/",
          "height": 1000
        },
        "outputId": "ddff4350-8ac3-4e26-dc6b-cf61d20243ea"
      },
      "source": [
        "for col in var:\n",
        "    print(dfc5.groupby(col)['cluster_id'].count())\n",
        "    print()"
      ],
      "execution_count": null,
      "outputs": [
        {
          "output_type": "stream",
          "text": [
            "Day\n",
            "1     160\n",
            "2     228\n",
            "3     192\n",
            "4     222\n",
            "5     197\n",
            "6     173\n",
            "7     305\n",
            "8     187\n",
            "9     276\n",
            "10    249\n",
            "11    226\n",
            "12    252\n",
            "13    281\n",
            "14    266\n",
            "15    260\n",
            "16    278\n",
            "17    274\n",
            "18    395\n",
            "19    319\n",
            "20    345\n",
            "21    347\n",
            "22    268\n",
            "23    431\n",
            "24    246\n",
            "25    262\n",
            "26    238\n",
            "27    234\n",
            "28    279\n",
            "29    228\n",
            "30    280\n",
            "31    778\n",
            "Name: cluster_id, dtype: int64\n",
            "\n",
            "Month\n",
            "1      450\n",
            "2      293\n",
            "3      482\n",
            "4      995\n",
            "5      763\n",
            "6      584\n",
            "7      738\n",
            "8      331\n",
            "9      395\n",
            "10     896\n",
            "11     934\n",
            "12    1815\n",
            "Name: cluster_id, dtype: int64\n",
            "\n",
            "Year\n",
            "2005     566\n",
            "2006     882\n",
            "2007    2129\n",
            "2008    1790\n",
            "2009    1713\n",
            "2010    1382\n",
            "2011     214\n",
            "Name: cluster_id, dtype: int64\n",
            "\n",
            "weekday\n",
            "0      95\n",
            "1     718\n",
            "2    2654\n",
            "3    1321\n",
            "4    2335\n",
            "5    1232\n",
            "6     321\n",
            "Name: cluster_id, dtype: int64\n",
            "\n",
            "cluster_id\n",
            "4    8676\n",
            "Name: cluster_id, dtype: int64\n",
            "\n"
          ],
          "name": "stdout"
        }
      ]
    },
    {
      "cell_type": "code",
      "metadata": {
        "id": "ybMGP76yD0hp",
        "colab_type": "code",
        "colab": {}
      },
      "source": [
        ""
      ],
      "execution_count": null,
      "outputs": []
    }
  ]
}